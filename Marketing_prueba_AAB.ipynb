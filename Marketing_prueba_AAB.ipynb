{
 "cells": [
  {
   "cell_type": "markdown",
   "metadata": {},
   "source": [
    "# Descripción del Proyecto\n",
    "\n",
    "El objetivo de este proyecto es evaluar el rendimiento de una prueba A/B realizada para determinar la efectividad de diferentes estrategias de marketing en un sitio web de comercio electrónico. A través de esta prueba, se busca identificar cuál de las estrategias implementadas tiene un mayor impacto en la conversión de visitantes en clientes, con el fin de optimizar las futuras campañas de marketing.\n",
    "\n",
    "\n",
    "\n"
   ]
  },
  {
   "cell_type": "markdown",
   "metadata": {},
   "source": [
    "# Metodología:\n",
    "\n",
    "**- Exploración de Datos:**  \n",
    "Se comenzará por explorar los datos recolectados durante la prueba A/B, que incluyen métricas clave como las tasas de conversión, ingresos generados y tamaño de pedidos en cada grupo. Esta etapa permitirá familiarizarse con las variables disponibles y su comportamiento a lo largo del período de prueba.\n",
    "\n",
    "**- Preprocesamiento de Datos:**  \n",
    "En esta fase, los datos serán limpiados y preparados para el análisis, lo que incluirá la eliminación de valores atípicos, la imputación de valores faltantes, y la normalización de variables según sea necesario para asegurar que el análisis sea robusto y preciso.\n",
    "\n",
    "**- Análisis de Datos:**  \n",
    "Se aplicarán técnicas de análisis exploratorio y estadístico para evaluar las diferencias entre los grupos A y B. Esto incluirá la comparación de tasas de conversión, ingresos medios por usuario, y otros indicadores de rendimiento clave. También se realizarán pruebas de hipótesis para determinar la significancia estadística de los resultados observados.\n",
    "\n",
    "**- Elaboración de Informes y Métricas:**  \n",
    "Se generarán informes detallados que resumirán los hallazgos del análisis, con visualizaciones que faciliten la interpretación de los datos. Estos informes incluirán métricas como la tasa de conversión media, el ingreso por visitante, y comparaciones entre los grupos A y B.\n",
    "\n",
    "**- Conclusiones Generales:**  \n",
    "Finalmente, se sintetizarán los resultados del análisis para ofrecer recomendaciones concretas. Estas recomendaciones estarán orientadas a optimizar las futuras estrategias de marketing, basadas en los insights obtenidos durante la prueba A/B. La decisión final incluirá si continuar con la prueba, si detenerla y aplicar cambios, o si considerar uno de los grupos como líder en futuras implementaciones."
   ]
  },
  {
   "cell_type": "markdown",
   "metadata": {},
   "source": [
    "# Preparación y Exploración de Datos"
   ]
  },
  {
   "cell_type": "code",
   "execution_count": 1,
   "metadata": {},
   "outputs": [],
   "source": [
    "import matplotlib.pyplot as plt\n",
    "from scipy import stats as st\n",
    "import seaborn as sns\n",
    "import numpy as np\n",
    "import pandas as pd\n",
    "import matplotlib.dates as mdates\n",
    "import datetime as dt\n",
    "import scipy.stats as stats\n"
   ]
  },
  {
   "cell_type": "code",
   "execution_count": 2,
   "metadata": {},
   "outputs": [],
   "source": [
    "hypo = pd.read_csv('/datasets/hypotheses_us.csv', sep = ';')\n",
    "orders = pd.read_csv('/datasets/orders_us.csv')\n",
    "visits = pd.read_csv('/datasets/visits_us.csv')"
   ]
  },
  {
   "cell_type": "code",
   "execution_count": 3,
   "metadata": {},
   "outputs": [
    {
     "name": "stdout",
     "output_type": "stream",
     "text": [
      "<class 'pandas.core.frame.DataFrame'>\n",
      "RangeIndex: 9 entries, 0 to 8\n",
      "Data columns (total 5 columns):\n",
      " #   Column      Non-Null Count  Dtype \n",
      "---  ------      --------------  ----- \n",
      " 0   Hypothesis  9 non-null      object\n",
      " 1   Reach       9 non-null      int64 \n",
      " 2   Impact      9 non-null      int64 \n",
      " 3   Confidence  9 non-null      int64 \n",
      " 4   Effort      9 non-null      int64 \n",
      "dtypes: int64(4), object(1)\n",
      "memory usage: 488.0+ bytes\n",
      "---------------------------------------------------\n",
      "<class 'pandas.core.frame.DataFrame'>\n",
      "RangeIndex: 1197 entries, 0 to 1196\n",
      "Data columns (total 5 columns):\n",
      " #   Column         Non-Null Count  Dtype  \n",
      "---  ------         --------------  -----  \n",
      " 0   transactionId  1197 non-null   int64  \n",
      " 1   visitorId      1197 non-null   int64  \n",
      " 2   date           1197 non-null   object \n",
      " 3   revenue        1197 non-null   float64\n",
      " 4   group          1197 non-null   object \n",
      "dtypes: float64(1), int64(2), object(2)\n",
      "memory usage: 46.9+ KB\n",
      "---------------------------------------------------\n",
      "<class 'pandas.core.frame.DataFrame'>\n",
      "RangeIndex: 62 entries, 0 to 61\n",
      "Data columns (total 3 columns):\n",
      " #   Column  Non-Null Count  Dtype \n",
      "---  ------  --------------  ----- \n",
      " 0   date    62 non-null     object\n",
      " 1   group   62 non-null     object\n",
      " 2   visits  62 non-null     int64 \n",
      "dtypes: int64(1), object(2)\n",
      "memory usage: 1.6+ KB\n"
     ]
    }
   ],
   "source": [
    "hypo.info()\n",
    "\n",
    "print('---------------------------------------------------')\n",
    "\n",
    "orders.info()\n",
    "\n",
    "print('---------------------------------------------------')\n",
    "\n",
    "visits.info()"
   ]
  },
  {
   "cell_type": "markdown",
   "metadata": {},
   "source": [
    "Escaneando de forma general la estructura de los datos con el método ´info()´ en los 3 df (`hypo`, `orders`, `visits`) , se aprecia que no hay datos 'nulos' a simple vista, los 3 df son pequeños.\n",
    "\n",
    "Tanto como el df `orders` y`visits`, la columna `date` es tipo `object`, se cambiará a `date` para mejor manejo de los datos y mejor análisis.\n"
   ]
  },
  {
   "cell_type": "markdown",
   "metadata": {},
   "source": [
    "# Valores Duplicados "
   ]
  },
  {
   "cell_type": "code",
   "execution_count": 4,
   "metadata": {},
   "outputs": [
    {
     "data": {
      "text/html": [
       "<div>\n",
       "<style scoped>\n",
       "    .dataframe tbody tr th:only-of-type {\n",
       "        vertical-align: middle;\n",
       "    }\n",
       "\n",
       "    .dataframe tbody tr th {\n",
       "        vertical-align: top;\n",
       "    }\n",
       "\n",
       "    .dataframe thead th {\n",
       "        text-align: right;\n",
       "    }\n",
       "</style>\n",
       "<table border=\"1\" class=\"dataframe\">\n",
       "  <thead>\n",
       "    <tr style=\"text-align: right;\">\n",
       "      <th></th>\n",
       "      <th>transactionId</th>\n",
       "      <th>visitorId</th>\n",
       "      <th>date</th>\n",
       "      <th>revenue</th>\n",
       "      <th>group</th>\n",
       "    </tr>\n",
       "  </thead>\n",
       "  <tbody>\n",
       "  </tbody>\n",
       "</table>\n",
       "</div>"
      ],
      "text/plain": [
       "Empty DataFrame\n",
       "Columns: [transactionId, visitorId, date, revenue, group]\n",
       "Index: []"
      ]
     },
     "execution_count": 4,
     "metadata": {},
     "output_type": "execute_result"
    }
   ],
   "source": [
    "orders_id_duplicated = orders[orders['transactionId'].duplicated()] \n",
    "\n",
    "orders_id_duplicated"
   ]
  },
  {
   "cell_type": "code",
   "execution_count": 5,
   "metadata": {},
   "outputs": [
    {
     "data": {
      "text/html": [
       "<div>\n",
       "<style scoped>\n",
       "    .dataframe tbody tr th:only-of-type {\n",
       "        vertical-align: middle;\n",
       "    }\n",
       "\n",
       "    .dataframe tbody tr th {\n",
       "        vertical-align: top;\n",
       "    }\n",
       "\n",
       "    .dataframe thead th {\n",
       "        text-align: right;\n",
       "    }\n",
       "</style>\n",
       "<table border=\"1\" class=\"dataframe\">\n",
       "  <thead>\n",
       "    <tr style=\"text-align: right;\">\n",
       "      <th></th>\n",
       "      <th>date</th>\n",
       "      <th>group</th>\n",
       "      <th>visits</th>\n",
       "    </tr>\n",
       "  </thead>\n",
       "  <tbody>\n",
       "  </tbody>\n",
       "</table>\n",
       "</div>"
      ],
      "text/plain": [
       "Empty DataFrame\n",
       "Columns: [date, group, visits]\n",
       "Index: []"
      ]
     },
     "metadata": {},
     "output_type": "display_data"
    },
    {
     "data": {
      "text/html": [
       "<div>\n",
       "<style scoped>\n",
       "    .dataframe tbody tr th:only-of-type {\n",
       "        vertical-align: middle;\n",
       "    }\n",
       "\n",
       "    .dataframe tbody tr th {\n",
       "        vertical-align: top;\n",
       "    }\n",
       "\n",
       "    .dataframe thead th {\n",
       "        text-align: right;\n",
       "    }\n",
       "</style>\n",
       "<table border=\"1\" class=\"dataframe\">\n",
       "  <thead>\n",
       "    <tr style=\"text-align: right;\">\n",
       "      <th></th>\n",
       "      <th>transactionId</th>\n",
       "      <th>visitorId</th>\n",
       "      <th>date</th>\n",
       "      <th>revenue</th>\n",
       "      <th>group</th>\n",
       "    </tr>\n",
       "  </thead>\n",
       "  <tbody>\n",
       "  </tbody>\n",
       "</table>\n",
       "</div>"
      ],
      "text/plain": [
       "Empty DataFrame\n",
       "Columns: [transactionId, visitorId, date, revenue, group]\n",
       "Index: []"
      ]
     },
     "metadata": {},
     "output_type": "display_data"
    }
   ],
   "source": [
    "duplicated_rows_v = visits[visits.duplicated(keep=False)]\n",
    "duplicated_rows_o = orders[orders.duplicated(keep=False)]\n",
    "\n",
    "display(duplicated_rows_v)\n",
    "display(duplicated_rows_o)"
   ]
  },
  {
   "cell_type": "markdown",
   "metadata": {},
   "source": [
    "# Valores Falsos"
   ]
  },
  {
   "cell_type": "markdown",
   "metadata": {},
   "source": [
    "En esta parte Checkeamos si tenemos valores mal ingresados o 'typos', específicamente en los valores categóricos de la columna `group`, de las tablas `orders` y `visits`. "
   ]
  },
  {
   "cell_type": "code",
   "execution_count": 6,
   "metadata": {},
   "outputs": [
    {
     "data": {
      "text/plain": [
       "array(['A', 'B'], dtype=object)"
      ]
     },
     "execution_count": 6,
     "metadata": {},
     "output_type": "execute_result"
    }
   ],
   "source": [
    "visits_nun = visits['group'].unique()\n",
    "\n",
    "visits_nun"
   ]
  },
  {
   "cell_type": "code",
   "execution_count": 7,
   "metadata": {},
   "outputs": [
    {
     "data": {
      "text/plain": [
       "array(['B', 'A'], dtype=object)"
      ]
     },
     "execution_count": 7,
     "metadata": {},
     "output_type": "execute_result"
    }
   ],
   "source": [
    "orders_nun = orders['group'].unique()\n",
    "\n",
    "orders_nun"
   ]
  },
  {
   "cell_type": "markdown",
   "metadata": {},
   "source": [
    "Podemos certficar que no tenemos valores falsos o duplicados en los datasets para poder realizar nuestra prueba."
   ]
  },
  {
   "cell_type": "markdown",
   "metadata": {},
   "source": [
    "## Priorizar Hipótesis"
   ]
  },
  {
   "cell_type": "markdown",
   "metadata": {},
   "source": [
    "En esta parte, vamos a prorizar las hipotesís que más convienen para aumentar los ingresos de la tienda en línea"
   ]
  },
  {
   "cell_type": "code",
   "execution_count": 8,
   "metadata": {},
   "outputs": [
    {
     "data": {
      "text/html": [
       "<div>\n",
       "<style scoped>\n",
       "    .dataframe tbody tr th:only-of-type {\n",
       "        vertical-align: middle;\n",
       "    }\n",
       "\n",
       "    .dataframe tbody tr th {\n",
       "        vertical-align: top;\n",
       "    }\n",
       "\n",
       "    .dataframe thead th {\n",
       "        text-align: right;\n",
       "    }\n",
       "</style>\n",
       "<table border=\"1\" class=\"dataframe\">\n",
       "  <thead>\n",
       "    <tr style=\"text-align: right;\">\n",
       "      <th></th>\n",
       "      <th>Hypothesis</th>\n",
       "      <th>Reach</th>\n",
       "      <th>Impact</th>\n",
       "      <th>Confidence</th>\n",
       "      <th>Effort</th>\n",
       "    </tr>\n",
       "  </thead>\n",
       "  <tbody>\n",
       "    <tr>\n",
       "      <th>0</th>\n",
       "      <td>Add two new channels for attracting traffic. T...</td>\n",
       "      <td>3</td>\n",
       "      <td>10</td>\n",
       "      <td>8</td>\n",
       "      <td>6</td>\n",
       "    </tr>\n",
       "    <tr>\n",
       "      <th>1</th>\n",
       "      <td>Launch your own delivery service. This will sh...</td>\n",
       "      <td>2</td>\n",
       "      <td>5</td>\n",
       "      <td>4</td>\n",
       "      <td>10</td>\n",
       "    </tr>\n",
       "    <tr>\n",
       "      <th>2</th>\n",
       "      <td>Add product recommendation blocks to the store...</td>\n",
       "      <td>8</td>\n",
       "      <td>3</td>\n",
       "      <td>7</td>\n",
       "      <td>3</td>\n",
       "    </tr>\n",
       "    <tr>\n",
       "      <th>3</th>\n",
       "      <td>Change the category structure. This will incre...</td>\n",
       "      <td>8</td>\n",
       "      <td>3</td>\n",
       "      <td>3</td>\n",
       "      <td>8</td>\n",
       "    </tr>\n",
       "    <tr>\n",
       "      <th>4</th>\n",
       "      <td>Change the background color on the main page. ...</td>\n",
       "      <td>3</td>\n",
       "      <td>1</td>\n",
       "      <td>1</td>\n",
       "      <td>1</td>\n",
       "    </tr>\n",
       "    <tr>\n",
       "      <th>5</th>\n",
       "      <td>Add a customer review page. This will increase...</td>\n",
       "      <td>3</td>\n",
       "      <td>2</td>\n",
       "      <td>2</td>\n",
       "      <td>3</td>\n",
       "    </tr>\n",
       "    <tr>\n",
       "      <th>6</th>\n",
       "      <td>Show banners with current offers and sales on ...</td>\n",
       "      <td>5</td>\n",
       "      <td>3</td>\n",
       "      <td>8</td>\n",
       "      <td>3</td>\n",
       "    </tr>\n",
       "    <tr>\n",
       "      <th>7</th>\n",
       "      <td>Add a subscription form to all the main pages....</td>\n",
       "      <td>10</td>\n",
       "      <td>7</td>\n",
       "      <td>8</td>\n",
       "      <td>5</td>\n",
       "    </tr>\n",
       "    <tr>\n",
       "      <th>8</th>\n",
       "      <td>Launch a promotion that gives users discounts ...</td>\n",
       "      <td>1</td>\n",
       "      <td>9</td>\n",
       "      <td>9</td>\n",
       "      <td>5</td>\n",
       "    </tr>\n",
       "  </tbody>\n",
       "</table>\n",
       "</div>"
      ],
      "text/plain": [
       "                                          Hypothesis  Reach  Impact  \\\n",
       "0  Add two new channels for attracting traffic. T...      3      10   \n",
       "1  Launch your own delivery service. This will sh...      2       5   \n",
       "2  Add product recommendation blocks to the store...      8       3   \n",
       "3  Change the category structure. This will incre...      8       3   \n",
       "4  Change the background color on the main page. ...      3       1   \n",
       "5  Add a customer review page. This will increase...      3       2   \n",
       "6  Show banners with current offers and sales on ...      5       3   \n",
       "7  Add a subscription form to all the main pages....     10       7   \n",
       "8  Launch a promotion that gives users discounts ...      1       9   \n",
       "\n",
       "   Confidence  Effort  \n",
       "0           8       6  \n",
       "1           4      10  \n",
       "2           7       3  \n",
       "3           3       8  \n",
       "4           1       1  \n",
       "5           2       3  \n",
       "6           8       3  \n",
       "7           8       5  \n",
       "8           9       5  "
      ]
     },
     "execution_count": 8,
     "metadata": {},
     "output_type": "execute_result"
    }
   ],
   "source": [
    "hypo"
   ]
  },
  {
   "cell_type": "markdown",
   "metadata": {},
   "source": [
    "En los datos del archivo proporcionado, podemos ver que hay 9 hipótesis, cada una con un puntaje en \"Alcance (Reach)\", \"Impacto (Impact)\", \"Confianza (Confidence)\" y \"Esfuerzo (Effort)\". Antes de comenzar a calcular la prioridad de las hipótesis, seguiremos las buenas prácticas y modificaremos los nombres de las columnas para que todos los caracteres estén en minúsculas."
   ]
  },
  {
   "cell_type": "code",
   "execution_count": 9,
   "metadata": {},
   "outputs": [
    {
     "data": {
      "text/html": [
       "<div>\n",
       "<style scoped>\n",
       "    .dataframe tbody tr th:only-of-type {\n",
       "        vertical-align: middle;\n",
       "    }\n",
       "\n",
       "    .dataframe tbody tr th {\n",
       "        vertical-align: top;\n",
       "    }\n",
       "\n",
       "    .dataframe thead th {\n",
       "        text-align: right;\n",
       "    }\n",
       "</style>\n",
       "<table border=\"1\" class=\"dataframe\">\n",
       "  <thead>\n",
       "    <tr style=\"text-align: right;\">\n",
       "      <th></th>\n",
       "      <th>hypothesis</th>\n",
       "      <th>reach</th>\n",
       "      <th>impact</th>\n",
       "      <th>confidence</th>\n",
       "      <th>effort</th>\n",
       "    </tr>\n",
       "  </thead>\n",
       "  <tbody>\n",
       "    <tr>\n",
       "      <th>0</th>\n",
       "      <td>Add two new channels for attracting traffic. T...</td>\n",
       "      <td>3</td>\n",
       "      <td>10</td>\n",
       "      <td>8</td>\n",
       "      <td>6</td>\n",
       "    </tr>\n",
       "    <tr>\n",
       "      <th>1</th>\n",
       "      <td>Launch your own delivery service. This will sh...</td>\n",
       "      <td>2</td>\n",
       "      <td>5</td>\n",
       "      <td>4</td>\n",
       "      <td>10</td>\n",
       "    </tr>\n",
       "  </tbody>\n",
       "</table>\n",
       "</div>"
      ],
      "text/plain": [
       "                                          hypothesis  reach  impact  \\\n",
       "0  Add two new channels for attracting traffic. T...      3      10   \n",
       "1  Launch your own delivery service. This will sh...      2       5   \n",
       "\n",
       "   confidence  effort  \n",
       "0           8       6  \n",
       "1           4      10  "
      ]
     },
     "execution_count": 9,
     "metadata": {},
     "output_type": "execute_result"
    }
   ],
   "source": [
    "hypo.columns = ['hypothesis', 'reach', 'impact', 'confidence', 'effort']\n",
    "hypo.head(2)"
   ]
  },
  {
   "cell_type": "markdown",
   "metadata": {},
   "source": [
    "Ya hecho este cambio, prioricemos las hipótesis. Para ello, aplicaremos los frameworks \"ICE\" y \"RICE\""
   ]
  },
  {
   "cell_type": "markdown",
   "metadata": {},
   "source": [
    "### Framework ICE"
   ]
  },
  {
   "cell_type": "markdown",
   "metadata": {},
   "source": [
    "La prueba de framework ICE, la cual se define en medir 3 parametros: \n",
    "\n",
    "- **IMPACTO (Impact)**: ¿Cuánta diferencia puede hacer este experimento?\n",
    "\n",
    "- **CONFIANZA (Confidence)**: ¿Qué tan seguro estoy de que esta prueba probará mi hipótesis?\n",
    "\n",
    "- **FASE (Ease)**: ¿Puedo ejecutar esta prueba fácilmente?\n",
    "\n",
    "Según los datos que tenemos en el df `hypo`, aplicaremos la siguiente formula : `( impacto x confianza ) / esfuerzo`.\n",
    "                                                                                        "
   ]
  },
  {
   "cell_type": "code",
   "execution_count": 10,
   "metadata": {},
   "outputs": [
    {
     "data": {
      "text/html": [
       "<div>\n",
       "<style scoped>\n",
       "    .dataframe tbody tr th:only-of-type {\n",
       "        vertical-align: middle;\n",
       "    }\n",
       "\n",
       "    .dataframe tbody tr th {\n",
       "        vertical-align: top;\n",
       "    }\n",
       "\n",
       "    .dataframe thead th {\n",
       "        text-align: right;\n",
       "    }\n",
       "</style>\n",
       "<table border=\"1\" class=\"dataframe\">\n",
       "  <thead>\n",
       "    <tr style=\"text-align: right;\">\n",
       "      <th></th>\n",
       "      <th>hypothesis</th>\n",
       "      <th>ICE</th>\n",
       "    </tr>\n",
       "  </thead>\n",
       "  <tbody>\n",
       "    <tr>\n",
       "      <th>8</th>\n",
       "      <td>Launch a promotion that gives users discounts on their birthdays</td>\n",
       "      <td>16.200000</td>\n",
       "    </tr>\n",
       "    <tr>\n",
       "      <th>0</th>\n",
       "      <td>Add two new channels for attracting traffic. This will bring 30% more users</td>\n",
       "      <td>13.333333</td>\n",
       "    </tr>\n",
       "    <tr>\n",
       "      <th>7</th>\n",
       "      <td>Add a subscription form to all the main pages. This will help you compile a mailing list</td>\n",
       "      <td>11.200000</td>\n",
       "    </tr>\n",
       "    <tr>\n",
       "      <th>6</th>\n",
       "      <td>Show banners with current offers and sales on the main page. This will boost conversion</td>\n",
       "      <td>8.000000</td>\n",
       "    </tr>\n",
       "    <tr>\n",
       "      <th>2</th>\n",
       "      <td>Add product recommendation blocks to the store's site. This will increase conversion and average purchase size</td>\n",
       "      <td>7.000000</td>\n",
       "    </tr>\n",
       "    <tr>\n",
       "      <th>1</th>\n",
       "      <td>Launch your own delivery service. This will shorten delivery time</td>\n",
       "      <td>2.000000</td>\n",
       "    </tr>\n",
       "    <tr>\n",
       "      <th>5</th>\n",
       "      <td>Add a customer review page. This will increase the number of orders</td>\n",
       "      <td>1.333333</td>\n",
       "    </tr>\n",
       "    <tr>\n",
       "      <th>3</th>\n",
       "      <td>Change the category structure. This will increase conversion since users will find the products they want more quickly</td>\n",
       "      <td>1.125000</td>\n",
       "    </tr>\n",
       "    <tr>\n",
       "      <th>4</th>\n",
       "      <td>Change the background color on the main page. This will increase user engagement</td>\n",
       "      <td>1.000000</td>\n",
       "    </tr>\n",
       "  </tbody>\n",
       "</table>\n",
       "</div>"
      ],
      "text/plain": [
       "                                                                                                               hypothesis  \\\n",
       "8                                                        Launch a promotion that gives users discounts on their birthdays   \n",
       "0                                             Add two new channels for attracting traffic. This will bring 30% more users   \n",
       "7                                Add a subscription form to all the main pages. This will help you compile a mailing list   \n",
       "6                                 Show banners with current offers and sales on the main page. This will boost conversion   \n",
       "2          Add product recommendation blocks to the store's site. This will increase conversion and average purchase size   \n",
       "1                                                       Launch your own delivery service. This will shorten delivery time   \n",
       "5                                                     Add a customer review page. This will increase the number of orders   \n",
       "3  Change the category structure. This will increase conversion since users will find the products they want more quickly   \n",
       "4                                        Change the background color on the main page. This will increase user engagement   \n",
       "\n",
       "         ICE  \n",
       "8  16.200000  \n",
       "0  13.333333  \n",
       "7  11.200000  \n",
       "6   8.000000  \n",
       "2   7.000000  \n",
       "1   2.000000  \n",
       "5   1.333333  \n",
       "3   1.125000  \n",
       "4   1.000000  "
      ]
     },
     "metadata": {},
     "output_type": "display_data"
    }
   ],
   "source": [
    "hypo['ICE'] = (hypo['impact'] * hypo['confidence']) / hypo['effort']\n",
    "\n",
    "pd.set_option('display.max_colwidth', None)\n",
    "display(hypo[['hypothesis','ICE']].sort_values(by='ICE', ascending =False))"
   ]
  },
  {
   "cell_type": "markdown",
   "metadata": {},
   "source": [
    "De acuerdo a la tabla mostrada, la hipótesis \"Lanzar una promoción que ofrezca descuentos a los usuarios en sus cumpleaños\" es la que tiene la mayor prioridad, con una puntuación de 16.20 según el Framework ICE."
   ]
  },
  {
   "cell_type": "markdown",
   "metadata": {},
   "source": [
    "### Framework RICE"
   ]
  },
  {
   "cell_type": "markdown",
   "metadata": {},
   "source": [
    "Ahora, para la prueba de framework RICE, la cual mide 4 parámetros:\n",
    "\n",
    "- **ALCANSE (Reach)**: ¿Cuántas personas serán impactadas por esta prueba?\n",
    "\n",
    "- **IMPACTO (Impact)**: ¿Qué tanto impacto tendrá esta prueba en el objetivo?\n",
    "\n",
    "- **CONFIANZA (Confidence)**: ¿Qué tan seguro estoy de que esta prueba tendrá el impacto esperado?\n",
    "\n",
    "- **ESFUERZO (Effort)**: ¿Cuánto esfuerzo se requiere para implementar esta prueba?\n",
    "\n",
    "Según los datos que tenemos en el `df hypo`, aplicaremos la siguiente fórmula: `( alcance x impacto x confianza ) / esfuerzo`."
   ]
  },
  {
   "cell_type": "code",
   "execution_count": 11,
   "metadata": {},
   "outputs": [
    {
     "data": {
      "text/html": [
       "<div>\n",
       "<style scoped>\n",
       "    .dataframe tbody tr th:only-of-type {\n",
       "        vertical-align: middle;\n",
       "    }\n",
       "\n",
       "    .dataframe tbody tr th {\n",
       "        vertical-align: top;\n",
       "    }\n",
       "\n",
       "    .dataframe thead th {\n",
       "        text-align: right;\n",
       "    }\n",
       "</style>\n",
       "<table border=\"1\" class=\"dataframe\">\n",
       "  <thead>\n",
       "    <tr style=\"text-align: right;\">\n",
       "      <th></th>\n",
       "      <th>hypothesis</th>\n",
       "      <th>RICE</th>\n",
       "    </tr>\n",
       "  </thead>\n",
       "  <tbody>\n",
       "    <tr>\n",
       "      <th>7</th>\n",
       "      <td>Add a subscription form to all the main pages. This will help you compile a mailing list</td>\n",
       "      <td>112.0</td>\n",
       "    </tr>\n",
       "    <tr>\n",
       "      <th>2</th>\n",
       "      <td>Add product recommendation blocks to the store's site. This will increase conversion and average purchase size</td>\n",
       "      <td>56.0</td>\n",
       "    </tr>\n",
       "    <tr>\n",
       "      <th>0</th>\n",
       "      <td>Add two new channels for attracting traffic. This will bring 30% more users</td>\n",
       "      <td>40.0</td>\n",
       "    </tr>\n",
       "    <tr>\n",
       "      <th>6</th>\n",
       "      <td>Show banners with current offers and sales on the main page. This will boost conversion</td>\n",
       "      <td>40.0</td>\n",
       "    </tr>\n",
       "    <tr>\n",
       "      <th>8</th>\n",
       "      <td>Launch a promotion that gives users discounts on their birthdays</td>\n",
       "      <td>16.2</td>\n",
       "    </tr>\n",
       "    <tr>\n",
       "      <th>3</th>\n",
       "      <td>Change the category structure. This will increase conversion since users will find the products they want more quickly</td>\n",
       "      <td>9.0</td>\n",
       "    </tr>\n",
       "    <tr>\n",
       "      <th>1</th>\n",
       "      <td>Launch your own delivery service. This will shorten delivery time</td>\n",
       "      <td>4.0</td>\n",
       "    </tr>\n",
       "    <tr>\n",
       "      <th>5</th>\n",
       "      <td>Add a customer review page. This will increase the number of orders</td>\n",
       "      <td>4.0</td>\n",
       "    </tr>\n",
       "    <tr>\n",
       "      <th>4</th>\n",
       "      <td>Change the background color on the main page. This will increase user engagement</td>\n",
       "      <td>3.0</td>\n",
       "    </tr>\n",
       "  </tbody>\n",
       "</table>\n",
       "</div>"
      ],
      "text/plain": [
       "                                                                                                               hypothesis  \\\n",
       "7                                Add a subscription form to all the main pages. This will help you compile a mailing list   \n",
       "2          Add product recommendation blocks to the store's site. This will increase conversion and average purchase size   \n",
       "0                                             Add two new channels for attracting traffic. This will bring 30% more users   \n",
       "6                                 Show banners with current offers and sales on the main page. This will boost conversion   \n",
       "8                                                        Launch a promotion that gives users discounts on their birthdays   \n",
       "3  Change the category structure. This will increase conversion since users will find the products they want more quickly   \n",
       "1                                                       Launch your own delivery service. This will shorten delivery time   \n",
       "5                                                     Add a customer review page. This will increase the number of orders   \n",
       "4                                        Change the background color on the main page. This will increase user engagement   \n",
       "\n",
       "    RICE  \n",
       "7  112.0  \n",
       "2   56.0  \n",
       "0   40.0  \n",
       "6   40.0  \n",
       "8   16.2  \n",
       "3    9.0  \n",
       "1    4.0  \n",
       "5    4.0  \n",
       "4    3.0  "
      ]
     },
     "metadata": {},
     "output_type": "display_data"
    }
   ],
   "source": [
    "# Calculando RICE\n",
    "hypo['RICE'] = (hypo['reach']*hypo['impact']*hypo['confidence'])/hypo['effort']\n",
    "\n",
    "# Mostramos la hipótesis y su puntaje de RICE\n",
    "display(hypo[['hypothesis', 'RICE']].sort_values(by='RICE', ascending=False))"
   ]
  },
  {
   "cell_type": "markdown",
   "metadata": {},
   "source": [
    "En este caso la hipótesis con mayor prioridad seria \"Añada un formulario de suscripción a todas las páginas principales. Esto le ayudará a compilar una lista de correos.(Add a subscription form to all the main pages. This will help you compile a mailing list)\" con un puntaje de RICE de 112."
   ]
  },
  {
   "cell_type": "code",
   "execution_count": 12,
   "metadata": {},
   "outputs": [
    {
     "data": {
      "text/html": [
       "<div>\n",
       "<style scoped>\n",
       "    .dataframe tbody tr th:only-of-type {\n",
       "        vertical-align: middle;\n",
       "    }\n",
       "\n",
       "    .dataframe tbody tr th {\n",
       "        vertical-align: top;\n",
       "    }\n",
       "\n",
       "    .dataframe thead th {\n",
       "        text-align: right;\n",
       "    }\n",
       "</style>\n",
       "<table border=\"1\" class=\"dataframe\">\n",
       "  <thead>\n",
       "    <tr style=\"text-align: right;\">\n",
       "      <th></th>\n",
       "      <th>hypothesis</th>\n",
       "      <th>ICE</th>\n",
       "    </tr>\n",
       "  </thead>\n",
       "  <tbody>\n",
       "    <tr>\n",
       "      <th>8</th>\n",
       "      <td>Launch a promotion that gives users discounts on their birthdays</td>\n",
       "      <td>16.200000</td>\n",
       "    </tr>\n",
       "    <tr>\n",
       "      <th>0</th>\n",
       "      <td>Add two new channels for attracting traffic. This will bring 30% more users</td>\n",
       "      <td>13.333333</td>\n",
       "    </tr>\n",
       "    <tr>\n",
       "      <th>7</th>\n",
       "      <td>Add a subscription form to all the main pages. This will help you compile a mailing list</td>\n",
       "      <td>11.200000</td>\n",
       "    </tr>\n",
       "  </tbody>\n",
       "</table>\n",
       "</div>"
      ],
      "text/plain": [
       "                                                                                 hypothesis  \\\n",
       "8                          Launch a promotion that gives users discounts on their birthdays   \n",
       "0               Add two new channels for attracting traffic. This will bring 30% more users   \n",
       "7  Add a subscription form to all the main pages. This will help you compile a mailing list   \n",
       "\n",
       "         ICE  \n",
       "8  16.200000  \n",
       "0  13.333333  \n",
       "7  11.200000  "
      ]
     },
     "metadata": {},
     "output_type": "display_data"
    },
    {
     "data": {
      "text/html": [
       "<div>\n",
       "<style scoped>\n",
       "    .dataframe tbody tr th:only-of-type {\n",
       "        vertical-align: middle;\n",
       "    }\n",
       "\n",
       "    .dataframe tbody tr th {\n",
       "        vertical-align: top;\n",
       "    }\n",
       "\n",
       "    .dataframe thead th {\n",
       "        text-align: right;\n",
       "    }\n",
       "</style>\n",
       "<table border=\"1\" class=\"dataframe\">\n",
       "  <thead>\n",
       "    <tr style=\"text-align: right;\">\n",
       "      <th></th>\n",
       "      <th>hypothesis</th>\n",
       "      <th>RICE</th>\n",
       "    </tr>\n",
       "  </thead>\n",
       "  <tbody>\n",
       "    <tr>\n",
       "      <th>7</th>\n",
       "      <td>Add a subscription form to all the main pages. This will help you compile a mailing list</td>\n",
       "      <td>112.0</td>\n",
       "    </tr>\n",
       "    <tr>\n",
       "      <th>2</th>\n",
       "      <td>Add product recommendation blocks to the store's site. This will increase conversion and average purchase size</td>\n",
       "      <td>56.0</td>\n",
       "    </tr>\n",
       "    <tr>\n",
       "      <th>0</th>\n",
       "      <td>Add two new channels for attracting traffic. This will bring 30% more users</td>\n",
       "      <td>40.0</td>\n",
       "    </tr>\n",
       "  </tbody>\n",
       "</table>\n",
       "</div>"
      ],
      "text/plain": [
       "                                                                                                       hypothesis  \\\n",
       "7                        Add a subscription form to all the main pages. This will help you compile a mailing list   \n",
       "2  Add product recommendation blocks to the store's site. This will increase conversion and average purchase size   \n",
       "0                                     Add two new channels for attracting traffic. This will bring 30% more users   \n",
       "\n",
       "    RICE  \n",
       "7  112.0  \n",
       "2   56.0  \n",
       "0   40.0  "
      ]
     },
     "metadata": {},
     "output_type": "display_data"
    }
   ],
   "source": [
    "# Mayores puntajes de ICE\n",
    "display(hypo[['hypothesis', 'ICE']].sort_values(by='ICE', ascending=False).head(3))\n",
    "# Mayores puntajes de  RICE\n",
    "display(hypo[['hypothesis', 'RICE']].sort_values(by='RICE', ascending=False).head(3))"
   ]
  },
  {
   "cell_type": "markdown",
   "metadata": {},
   "source": [
    "## Análisis Test A/B"
   ]
  },
  {
   "cell_type": "markdown",
   "metadata": {},
   "source": [
    "Antes de comenzar, transformaremos los datos de las fechas con el método `dt.datetime` para la manipulación correcta de estos durante el análisis de datos"
   ]
  },
  {
   "cell_type": "code",
   "execution_count": 13,
   "metadata": {},
   "outputs": [],
   "source": [
    "# orders\n",
    "orders['date'] = orders['date'].map(lambda x: dt.datetime.strptime(x, '%Y-%m-%d'))\n",
    "\n",
    "# visits\n",
    "visits['date'] = visits['date'].map(lambda x: dt.datetime.strptime(x, '%Y-%m-%d'))"
   ]
  },
  {
   "cell_type": "code",
   "execution_count": 14,
   "metadata": {},
   "outputs": [
    {
     "name": "stdout",
     "output_type": "stream",
     "text": [
      "<class 'pandas.core.frame.DataFrame'>\n",
      "RangeIndex: 1197 entries, 0 to 1196\n",
      "Data columns (total 5 columns):\n",
      " #   Column         Non-Null Count  Dtype         \n",
      "---  ------         --------------  -----         \n",
      " 0   transactionId  1197 non-null   int64         \n",
      " 1   visitorId      1197 non-null   int64         \n",
      " 2   date           1197 non-null   datetime64[ns]\n",
      " 3   revenue        1197 non-null   float64       \n",
      " 4   group          1197 non-null   object        \n",
      "dtypes: datetime64[ns](1), float64(1), int64(2), object(1)\n",
      "memory usage: 46.9+ KB\n",
      "                     \n",
      "<class 'pandas.core.frame.DataFrame'>\n",
      "RangeIndex: 62 entries, 0 to 61\n",
      "Data columns (total 3 columns):\n",
      " #   Column  Non-Null Count  Dtype         \n",
      "---  ------  --------------  -----         \n",
      " 0   date    62 non-null     datetime64[ns]\n",
      " 1   group   62 non-null     object        \n",
      " 2   visits  62 non-null     int64         \n",
      "dtypes: datetime64[ns](1), int64(1), object(1)\n",
      "memory usage: 1.6+ KB\n"
     ]
    }
   ],
   "source": [
    "orders.info()\n",
    "\n",
    "print ( '                     ')\n",
    "\n",
    "visits.info()"
   ]
  },
  {
   "cell_type": "markdown",
   "metadata": {},
   "source": [
    "### Ingresos Acumulados por Grupo "
   ]
  },
  {
   "cell_type": "markdown",
   "metadata": {},
   "source": [
    "Mostraremos los ingresos acumulados por cada grupo y los representaremos gráficamente. Para ello, primero recopilaremos los datos diarios acumulados de los pedidos y visitantes."
   ]
  },
  {
   "cell_type": "code",
   "execution_count": 15,
   "metadata": {},
   "outputs": [],
   "source": [
    "# Creamos una matiz con valores únicos de parejas Fecha-Grupo\n",
    "dategroups = orders[['date', 'group']].drop_duplicates()"
   ]
  },
  {
   "cell_type": "code",
   "execution_count": 16,
   "metadata": {},
   "outputs": [
    {
     "data": {
      "text/html": [
       "<div>\n",
       "<style scoped>\n",
       "    .dataframe tbody tr th:only-of-type {\n",
       "        vertical-align: middle;\n",
       "    }\n",
       "\n",
       "    .dataframe tbody tr th {\n",
       "        vertical-align: top;\n",
       "    }\n",
       "\n",
       "    .dataframe thead th {\n",
       "        text-align: right;\n",
       "    }\n",
       "</style>\n",
       "<table border=\"1\" class=\"dataframe\">\n",
       "  <thead>\n",
       "    <tr style=\"text-align: right;\">\n",
       "      <th></th>\n",
       "      <th>date</th>\n",
       "      <th>group</th>\n",
       "    </tr>\n",
       "  </thead>\n",
       "  <tbody>\n",
       "    <tr>\n",
       "      <th>0</th>\n",
       "      <td>2019-08-15</td>\n",
       "      <td>B</td>\n",
       "    </tr>\n",
       "    <tr>\n",
       "      <th>2</th>\n",
       "      <td>2019-08-15</td>\n",
       "      <td>A</td>\n",
       "    </tr>\n",
       "    <tr>\n",
       "      <th>45</th>\n",
       "      <td>2019-08-16</td>\n",
       "      <td>A</td>\n",
       "    </tr>\n",
       "    <tr>\n",
       "      <th>47</th>\n",
       "      <td>2019-08-16</td>\n",
       "      <td>B</td>\n",
       "    </tr>\n",
       "  </tbody>\n",
       "</table>\n",
       "</div>"
      ],
      "text/plain": [
       "         date group\n",
       "0  2019-08-15     B\n",
       "2  2019-08-15     A\n",
       "45 2019-08-16     A\n",
       "47 2019-08-16     B"
      ]
     },
     "execution_count": 16,
     "metadata": {},
     "output_type": "execute_result"
    }
   ],
   "source": [
    "dategroups.head(4)"
   ]
  },
  {
   "cell_type": "markdown",
   "metadata": {},
   "source": [
    "Ahora, obtendremos los datos diarios acumulados de los pedidos y visitantes"
   ]
  },
  {
   "cell_type": "code",
   "execution_count": 17,
   "metadata": {},
   "outputs": [],
   "source": [
    "# Datos diarios acumulados agregados sobre los pedidos\n",
    "\n",
    "ordersAggregated = dategroups.apply(\n",
    "    lambda x: \n",
    "        orders[np.logical_and(\n",
    "            orders['date'] <= x['date'], orders['group'] == x['group'])].agg(\n",
    "                {'date': 'max',\n",
    "                'group': 'max',\n",
    "                'transactionId': pd.Series.nunique,\n",
    "                'visitorId': pd.Series.nunique,\n",
    "                'revenue': 'sum'}\n",
    "        ), axis=1).sort_values(by=['date','group'])\n",
    "\n",
    "# Datos diarios acumulados agregados sobre los visitantes\n",
    "\n",
    "visitsAggregates = dategroups.apply(\n",
    "    lambda x:\n",
    "        visits[np.logical_and(\n",
    "            visits['date'] <= x['date'], visits['group'] == x['group'])].agg(\n",
    "                {'date': 'max',\n",
    "                'group': 'max',\n",
    "                'visits': 'sum'}\n",
    "            ), axis=1).sort_values(by=['date','group'])\n",
    "\n"
   ]
  },
  {
   "cell_type": "markdown",
   "metadata": {},
   "source": [
    "Unimos ambas tablas con el método `merge`"
   ]
  },
  {
   "cell_type": "code",
   "execution_count": 18,
   "metadata": {},
   "outputs": [
    {
     "data": {
      "text/html": [
       "<div>\n",
       "<style scoped>\n",
       "    .dataframe tbody tr th:only-of-type {\n",
       "        vertical-align: middle;\n",
       "    }\n",
       "\n",
       "    .dataframe tbody tr th {\n",
       "        vertical-align: top;\n",
       "    }\n",
       "\n",
       "    .dataframe thead th {\n",
       "        text-align: right;\n",
       "    }\n",
       "</style>\n",
       "<table border=\"1\" class=\"dataframe\">\n",
       "  <thead>\n",
       "    <tr style=\"text-align: right;\">\n",
       "      <th></th>\n",
       "      <th>date</th>\n",
       "      <th>group</th>\n",
       "      <th>orders</th>\n",
       "      <th>buyers</th>\n",
       "      <th>revenue</th>\n",
       "      <th>visitors</th>\n",
       "    </tr>\n",
       "  </thead>\n",
       "  <tbody>\n",
       "    <tr>\n",
       "      <th>0</th>\n",
       "      <td>2019-08-01</td>\n",
       "      <td>A</td>\n",
       "      <td>24</td>\n",
       "      <td>20</td>\n",
       "      <td>2356.8</td>\n",
       "      <td>719</td>\n",
       "    </tr>\n",
       "    <tr>\n",
       "      <th>1</th>\n",
       "      <td>2019-08-01</td>\n",
       "      <td>B</td>\n",
       "      <td>21</td>\n",
       "      <td>20</td>\n",
       "      <td>1620.0</td>\n",
       "      <td>713</td>\n",
       "    </tr>\n",
       "    <tr>\n",
       "      <th>2</th>\n",
       "      <td>2019-08-02</td>\n",
       "      <td>A</td>\n",
       "      <td>44</td>\n",
       "      <td>38</td>\n",
       "      <td>3860.3</td>\n",
       "      <td>1338</td>\n",
       "    </tr>\n",
       "    <tr>\n",
       "      <th>3</th>\n",
       "      <td>2019-08-02</td>\n",
       "      <td>B</td>\n",
       "      <td>45</td>\n",
       "      <td>43</td>\n",
       "      <td>4243.8</td>\n",
       "      <td>1294</td>\n",
       "    </tr>\n",
       "    <tr>\n",
       "      <th>4</th>\n",
       "      <td>2019-08-03</td>\n",
       "      <td>A</td>\n",
       "      <td>68</td>\n",
       "      <td>62</td>\n",
       "      <td>5675.5</td>\n",
       "      <td>1845</td>\n",
       "    </tr>\n",
       "  </tbody>\n",
       "</table>\n",
       "</div>"
      ],
      "text/plain": [
       "        date group  orders  buyers  revenue  visitors\n",
       "0 2019-08-01     A      24      20   2356.8       719\n",
       "1 2019-08-01     B      21      20   1620.0       713\n",
       "2 2019-08-02     A      44      38   3860.3      1338\n",
       "3 2019-08-02     B      45      43   4243.8      1294\n",
       "4 2019-08-03     A      68      62   5675.5      1845"
      ]
     },
     "metadata": {},
     "output_type": "display_data"
    }
   ],
   "source": [
    "\n",
    "cumulativeData = ordersAggregated.merge( visitsAggregates, left_on=['date', 'group'], right_on=['date', 'group'])\n",
    "\n",
    "#se cambian nombre de columnas a otros más descriptivos\n",
    "\n",
    "cumulativeData.columns = ['date', 'group', 'orders', 'buyers', 'revenue', 'visitors']\n",
    "\n",
    "display(cumulativeData.head())"
   ]
  },
  {
   "cell_type": "markdown",
   "metadata": {},
   "source": [
    "Ahora teniendo estos datos, podremos gráficar los ingresos acumulados de la prueba A/B. A parte se crearan 2 Dataframes que contenga los pedidos e ingresos acumulados por día según el grupo (grupo A y grupo B) "
   ]
  },
  {
   "cell_type": "code",
   "execution_count": 19,
   "metadata": {},
   "outputs": [
    {
     "data": {
      "text/plain": [
       "<matplotlib.legend.Legend at 0x7f2291e93250>"
      ]
     },
     "execution_count": 19,
     "metadata": {},
     "output_type": "execute_result"
    },
    {
     "data": {
      "image/png": "[encoded data removed]",
      "text/plain": [
       "<Figure size 640x480 with 1 Axes>"
      ]
     },
     "metadata": {},
     "output_type": "display_data"
    }
   ],
   "source": [
    "# DF por grupos\n",
    "cumulativeRevenueA = cumulativeData[cumulativeData['group']=='A'][['date', 'revenue', 'orders']]\n",
    "cumulativeRevenueB = cumulativeData[cumulativeData['group']=='B'][['date', 'revenue', 'orders']]\n",
    "\n",
    "# Gráfico de ingresos del grupo A\n",
    "plt.plot(cumulativeRevenueA['date'], cumulativeRevenueA['revenue'], label='A')\n",
    "\n",
    "# Gráfico de ingresos del grupo B\n",
    "plt.plot(cumulativeRevenueB['date'], cumulativeRevenueB['revenue'], label='B')\n",
    "\n",
    "plt.xticks(rotation=300)\n",
    "plt.legend()"
   ]
  },
  {
   "cell_type": "markdown",
   "metadata": {},
   "source": [
    "Como podemos observar, los ingresos aumentan de manera constante a lo largo de toda la prueba. Sin embargo, se puede apreciar un incremento significativo en los ingresos del grupo \"B\" entre el *17 y el 21 de agosto de 2019*,  mostrando una clara ventaja sobre los resultados del grupo \"A\". Este comportamiento podría haber sido retrasado debido a que, en los primeros días, se recopilaron los correos electrónicos, y el aumento se observó cuando comenzaron a enviarse correos a la lista recopilada."
   ]
  },
  {
   "cell_type": "markdown",
   "metadata": {},
   "source": [
    "### Tamaño de Pedidos Acúmulados por Grupo "
   ]
  },
  {
   "cell_type": "markdown",
   "metadata": {},
   "source": [
    "A continuación usaremos la tabla generada en la sección pasada para generar las gráficas del comportamiento de ambos grupos en relación a los pedidos acumulados."
   ]
  },
  {
   "cell_type": "code",
   "execution_count": 20,
   "metadata": {},
   "outputs": [
    {
     "data": {
      "text/plain": [
       "<matplotlib.legend.Legend at 0x7f2291ef7970>"
      ]
     },
     "execution_count": 20,
     "metadata": {},
     "output_type": "execute_result"
    },
    {
     "data": {
      "image/png": "[encoded data removed]",
      "text/plain": [
       "<Figure size 640x480 with 1 Axes>"
      ]
     },
     "metadata": {},
     "output_type": "display_data"
    }
   ],
   "source": [
    "# Trazamos el gráfico de pedidos del grupo A calculando el promedio de ingresos por ordenes\n",
    "\n",
    "plt.plot(cumulativeRevenueA['date'], cumulativeRevenueA['revenue']/cumulativeRevenueA['orders'], label='A')\n",
    "\n",
    "# Trazamos el gráfico de pedidos del grupo B calculando el promedio de ingresos por ordenes\n",
    "plt.plot(cumulativeRevenueB['date'], cumulativeRevenueB['revenue']/cumulativeRevenueB['orders'], label='B')\n",
    "\n",
    "plt.xticks(rotation=300)\n",
    "plt.legend()"
   ]
  },
  {
   "cell_type": "markdown",
   "metadata": {},
   "source": [
    "Como podemos observar en los resultados, el tamaño de los pedidos para ambos grupos se estabiliza casi al final de la prueba. Sin embargo, también notamos que al principio el tamaño de los pedidos para el grupo B comenzó más bajo mientras que el grupo A tuvo un inicio más alto, pero poco tiempo después intercambiaron posiciones. Casi al final, observamos un gran pico en el grupo B.\n",
    "\n",
    "También vemos que los resultados muestran varios picos en ciertos puntos, lo que podría deberse a valores atípicos en la información. Analizaremos este aspecto más adelante."
   ]
  },
  {
   "cell_type": "markdown",
   "metadata": {},
   "source": [
    "### Diferencia Relativa en El Tamaño Promedio del Pedido Acúmulado"
   ]
  },
  {
   "cell_type": "markdown",
   "metadata": {},
   "source": [
    "Representaremos la diferencia relativa en el tamaño de pedido promedio acumulado para el grupo B en comparación con el grupo A, para ello fusionaremos el ingreso promedio de las tablas de ambos grupos (`cumulativeRevenueA`, `cumulativeRevenueB`)"
   ]
  },
  {
   "cell_type": "code",
   "execution_count": 21,
   "metadata": {},
   "outputs": [],
   "source": [
    "merged_cumulative_revenue = cumulativeRevenueA.merge(cumulativeRevenueB,left_on = 'date',right_on='date',how='left',suffixes=['A','B'])"
   ]
  },
  {
   "cell_type": "code",
   "execution_count": 22,
   "metadata": {},
   "outputs": [
    {
     "data": {
      "text/plain": [
       "(array([18109., 18113., 18117., 18121., 18125., 18129., 18133., 18137.,\n",
       "        18140.]),\n",
       " [Text(0, 0, ''),\n",
       "  Text(0, 0, ''),\n",
       "  Text(0, 0, ''),\n",
       "  Text(0, 0, ''),\n",
       "  Text(0, 0, ''),\n",
       "  Text(0, 0, ''),\n",
       "  Text(0, 0, ''),\n",
       "  Text(0, 0, ''),\n",
       "  Text(0, 0, '')])"
      ]
     },
     "execution_count": 22,
     "metadata": {},
     "output_type": "execute_result"
    },
    {
     "data": {
      "image/png": "[encoded data removed]",
      "text/plain": [
       "<Figure size 640x480 with 1 Axes>"
      ]
     },
     "metadata": {},
     "output_type": "display_data"
    }
   ],
   "source": [
    "# Gráfico de diferencia relativa para los tamaños de compra promedio \n",
    "\n",
    "plt.plot(merged_cumulative_revenue['date'],\n",
    "        (merged_cumulative_revenue['revenueB']/merged_cumulative_revenue['ordersB'])/(merged_cumulative_revenue['revenueA']/merged_cumulative_revenue['ordersA'])-1\n",
    "        )\n",
    "\n",
    "\n",
    "# Agregamos el eje X\n",
    "plt.axhline(y=0, color='black', linestyle='--')\n",
    "plt.xticks(rotation=300)"
   ]
  },
  {
   "cell_type": "markdown",
   "metadata": {},
   "source": [
    "Como podemos apreciar, la diferencia entre los segmentos se incrementa. Esto sugiere que podría haber algunos pedidos grandes y valores atípicos en la información."
   ]
  },
  {
   "cell_type": "markdown",
   "metadata": {},
   "source": [
    "### Tasa de Conversión de Cada Grupo "
   ]
  },
  {
   "cell_type": "markdown",
   "metadata": {},
   "source": [
    "En esta sección calcularemos la tasa de conversion de cada grupo como la relación de pedido y número de visitas de cada día, adicional a esto gráficaremos la relación y analizaremos los resultados."
   ]
  },
  {
   "cell_type": "code",
   "execution_count": 23,
   "metadata": {},
   "outputs": [
    {
     "data": {
      "text/html": [
       "<div>\n",
       "<style scoped>\n",
       "    .dataframe tbody tr th:only-of-type {\n",
       "        vertical-align: middle;\n",
       "    }\n",
       "\n",
       "    .dataframe tbody tr th {\n",
       "        vertical-align: top;\n",
       "    }\n",
       "\n",
       "    .dataframe thead th {\n",
       "        text-align: right;\n",
       "    }\n",
       "</style>\n",
       "<table border=\"1\" class=\"dataframe\">\n",
       "  <thead>\n",
       "    <tr style=\"text-align: right;\">\n",
       "      <th></th>\n",
       "      <th>date</th>\n",
       "      <th>group</th>\n",
       "      <th>orders</th>\n",
       "      <th>buyers</th>\n",
       "      <th>revenue</th>\n",
       "      <th>visitors</th>\n",
       "      <th>conversion</th>\n",
       "    </tr>\n",
       "  </thead>\n",
       "  <tbody>\n",
       "    <tr>\n",
       "      <th>0</th>\n",
       "      <td>2019-08-01</td>\n",
       "      <td>A</td>\n",
       "      <td>24</td>\n",
       "      <td>20</td>\n",
       "      <td>2356.8</td>\n",
       "      <td>719</td>\n",
       "      <td>0.033380</td>\n",
       "    </tr>\n",
       "    <tr>\n",
       "      <th>2</th>\n",
       "      <td>2019-08-02</td>\n",
       "      <td>A</td>\n",
       "      <td>44</td>\n",
       "      <td>38</td>\n",
       "      <td>3860.3</td>\n",
       "      <td>1338</td>\n",
       "      <td>0.032885</td>\n",
       "    </tr>\n",
       "    <tr>\n",
       "      <th>4</th>\n",
       "      <td>2019-08-03</td>\n",
       "      <td>A</td>\n",
       "      <td>68</td>\n",
       "      <td>62</td>\n",
       "      <td>5675.5</td>\n",
       "      <td>1845</td>\n",
       "      <td>0.036856</td>\n",
       "    </tr>\n",
       "  </tbody>\n",
       "</table>\n",
       "</div>"
      ],
      "text/plain": [
       "        date group  orders  buyers  revenue  visitors  conversion\n",
       "0 2019-08-01     A      24      20   2356.8       719    0.033380\n",
       "2 2019-08-02     A      44      38   3860.3      1338    0.032885\n",
       "4 2019-08-03     A      68      62   5675.5      1845    0.036856"
      ]
     },
     "metadata": {},
     "output_type": "display_data"
    },
    {
     "data": {
      "text/html": [
       "<div>\n",
       "<style scoped>\n",
       "    .dataframe tbody tr th:only-of-type {\n",
       "        vertical-align: middle;\n",
       "    }\n",
       "\n",
       "    .dataframe tbody tr th {\n",
       "        vertical-align: top;\n",
       "    }\n",
       "\n",
       "    .dataframe thead th {\n",
       "        text-align: right;\n",
       "    }\n",
       "</style>\n",
       "<table border=\"1\" class=\"dataframe\">\n",
       "  <thead>\n",
       "    <tr style=\"text-align: right;\">\n",
       "      <th></th>\n",
       "      <th>date</th>\n",
       "      <th>group</th>\n",
       "      <th>orders</th>\n",
       "      <th>buyers</th>\n",
       "      <th>revenue</th>\n",
       "      <th>visitors</th>\n",
       "      <th>conversion</th>\n",
       "    </tr>\n",
       "  </thead>\n",
       "  <tbody>\n",
       "    <tr>\n",
       "      <th>1</th>\n",
       "      <td>2019-08-01</td>\n",
       "      <td>B</td>\n",
       "      <td>21</td>\n",
       "      <td>20</td>\n",
       "      <td>1620.0</td>\n",
       "      <td>713</td>\n",
       "      <td>0.029453</td>\n",
       "    </tr>\n",
       "    <tr>\n",
       "      <th>3</th>\n",
       "      <td>2019-08-02</td>\n",
       "      <td>B</td>\n",
       "      <td>45</td>\n",
       "      <td>43</td>\n",
       "      <td>4243.8</td>\n",
       "      <td>1294</td>\n",
       "      <td>0.034776</td>\n",
       "    </tr>\n",
       "    <tr>\n",
       "      <th>5</th>\n",
       "      <td>2019-08-03</td>\n",
       "      <td>B</td>\n",
       "      <td>61</td>\n",
       "      <td>59</td>\n",
       "      <td>6050.6</td>\n",
       "      <td>1803</td>\n",
       "      <td>0.033833</td>\n",
       "    </tr>\n",
       "  </tbody>\n",
       "</table>\n",
       "</div>"
      ],
      "text/plain": [
       "        date group  orders  buyers  revenue  visitors  conversion\n",
       "1 2019-08-01     B      21      20   1620.0       713    0.029453\n",
       "3 2019-08-02     B      45      43   4243.8      1294    0.034776\n",
       "5 2019-08-03     B      61      59   6050.6      1803    0.033833"
      ]
     },
     "metadata": {},
     "output_type": "display_data"
    }
   ],
   "source": [
    "# creamos columna de la tase de conversión \n",
    "cumulativeData['conversion'] = cumulativeData['orders']/cumulativeData['visitors']\n",
    "\n",
    "# Separamos por grupo, A y B\n",
    "cumulativeDataA = cumulativeData[cumulativeData['group'] == 'A']\n",
    "\n",
    "cumulativeDataB = cumulativeData[cumulativeData['group'] == 'B']\n",
    "\n",
    "display(cumulativeDataA.head(3))\n",
    "\n",
    "display(cumulativeDataB.head(3))"
   ]
  },
  {
   "cell_type": "code",
   "execution_count": 24,
   "metadata": {},
   "outputs": [
    {
     "data": {
      "text/plain": [
       "(18109.0, 18139.0, 0.01, 0.05)"
      ]
     },
     "execution_count": 24,
     "metadata": {},
     "output_type": "execute_result"
    },
    {
     "data": {
      "image/png": "[encoded data removed]",
      "text/plain": [
       "<Figure size 640x480 with 1 Axes>"
      ]
     },
     "metadata": {},
     "output_type": "display_data"
    }
   ],
   "source": [
    "# Trazamos los gráficos\n",
    "plt.plot(cumulativeDataA['date'], cumulativeDataA['conversion'], label = 'A')\n",
    "plt.plot(cumulativeDataB['date'], cumulativeDataB['conversion'], label = 'B')\n",
    "plt.legend()\n",
    "plt.xticks(rotation=300)\n",
    "\n",
    "# Establecemos la escala de los ejes \n",
    "plt.axis([pd.to_datetime('2019-08-01'), pd.to_datetime('2019-08-31'), 0.01, 0.05])"
   ]
  },
  {
   "cell_type": "markdown",
   "metadata": {},
   "source": [
    "Al comienzo de la prueba, observamos que el grupo A tiene una tasa de conversión más alta que el grupo B. Sin embargo, más adelante, vemos que el grupo B incrementa su conversión mientras que la del grupo A disminuye. Después de este cambio, ambos grupos se estabilizan en un valor casi constante."
   ]
  },
  {
   "cell_type": "markdown",
   "metadata": {},
   "source": [
    "### Dispersión de Números de perdidos por Usuario "
   ]
  },
  {
   "cell_type": "markdown",
   "metadata": {},
   "source": [
    "En esta sección, planeamos representar la cantidad de pedidos en un gráfico de dispersión para identificar posibles valores atípicos en los datos. Primero, obtendremos el número de pedidos por usuario y mostraremos el resultado."
   ]
  },
  {
   "cell_type": "code",
   "execution_count": 25,
   "metadata": {},
   "outputs": [
    {
     "name": "stdout",
     "output_type": "stream",
     "text": [
      "          userId  orders\n",
      "1023  4256040402      11\n",
      "591   2458001652      11\n",
      "569   2378935119       9\n",
      "487   2038680547       8\n",
      "44     199603092       5\n",
      "744   3062433592       5\n",
      "55     237748145       5\n",
      "917   3803269165       5\n",
      "299   1230306981       5\n",
      "897   3717692402       5\n"
     ]
    }
   ],
   "source": [
    "# Ordenamos la cantidad de pedidos por grupo, por usuario \n",
    "\n",
    "ordersByUsers = (\n",
    "    orders.drop(['group', 'revenue', 'date'], axis=1)\n",
    "    .groupby('visitorId', as_index=False)\n",
    "    .agg({'transactionId': pd.Series.nunique})\n",
    ")\n",
    "\n",
    "\n",
    "ordersByUsers.columns = ['userId', 'orders']\n",
    "\n",
    "\n",
    "print(ordersByUsers.sort_values(by='orders', ascending=False).head(10))"
   ]
  },
  {
   "cell_type": "markdown",
   "metadata": {},
   "source": [
    "Podemos notar a simple vista, que después del top 4, la mayoría de usurios ordena máximo hasta 5 veces. La mayor cantidad de ordenes realizadas fueron 11, el cual le pertenece a 2 usuarios. \n",
    "\n",
    "Veamos de cerca esto con un gráfico de dispersión."
   ]
  },
  {
   "cell_type": "code",
   "execution_count": 26,
   "metadata": {},
   "outputs": [
    {
     "data": {
      "text/html": [
       "<div>\n",
       "<style scoped>\n",
       "    .dataframe tbody tr th:only-of-type {\n",
       "        vertical-align: middle;\n",
       "    }\n",
       "\n",
       "    .dataframe tbody tr th {\n",
       "        vertical-align: top;\n",
       "    }\n",
       "\n",
       "    .dataframe thead th {\n",
       "        text-align: right;\n",
       "    }\n",
       "</style>\n",
       "<table border=\"1\" class=\"dataframe\">\n",
       "  <thead>\n",
       "    <tr style=\"text-align: right;\">\n",
       "      <th></th>\n",
       "      <th>orders</th>\n",
       "      <th>users_count</th>\n",
       "    </tr>\n",
       "  </thead>\n",
       "  <tbody>\n",
       "    <tr>\n",
       "      <th>0</th>\n",
       "      <td>1</td>\n",
       "      <td>937</td>\n",
       "    </tr>\n",
       "    <tr>\n",
       "      <th>1</th>\n",
       "      <td>2</td>\n",
       "      <td>64</td>\n",
       "    </tr>\n",
       "    <tr>\n",
       "      <th>2</th>\n",
       "      <td>3</td>\n",
       "      <td>17</td>\n",
       "    </tr>\n",
       "    <tr>\n",
       "      <th>3</th>\n",
       "      <td>4</td>\n",
       "      <td>3</td>\n",
       "    </tr>\n",
       "    <tr>\n",
       "      <th>4</th>\n",
       "      <td>5</td>\n",
       "      <td>6</td>\n",
       "    </tr>\n",
       "    <tr>\n",
       "      <th>5</th>\n",
       "      <td>8</td>\n",
       "      <td>1</td>\n",
       "    </tr>\n",
       "    <tr>\n",
       "      <th>6</th>\n",
       "      <td>9</td>\n",
       "      <td>1</td>\n",
       "    </tr>\n",
       "    <tr>\n",
       "      <th>7</th>\n",
       "      <td>11</td>\n",
       "      <td>2</td>\n",
       "    </tr>\n",
       "  </tbody>\n",
       "</table>\n",
       "</div>"
      ],
      "text/plain": [
       "   orders  users_count\n",
       "0       1          937\n",
       "1       2           64\n",
       "2       3           17\n",
       "3       4            3\n",
       "4       5            6\n",
       "5       8            1\n",
       "6       9            1\n",
       "7      11            2"
      ]
     },
     "metadata": {},
     "output_type": "display_data"
    }
   ],
   "source": [
    "# Conteo de usuarios según la cantidad de pedidos\n",
    "\n",
    "ordersByUsers_ = ordersByUsers.groupby('orders')['userId'].count().reset_index()\n",
    "\n",
    "ordersByUsers_.columns = ['orders', 'users_count']\n",
    "\n",
    "display(ordersByUsers_)\n"
   ]
  },
  {
   "cell_type": "code",
   "execution_count": 27,
   "metadata": {},
   "outputs": [
    {
     "data": {
      "image/png": "[encoded data removed]",
      "text/plain": [
       "<Figure size 640x480 with 1 Axes>"
      ]
     },
     "metadata": {},
     "output_type": "display_data"
    }
   ],
   "source": [
    "x_values = pd.Series(range(0, len(ordersByUsers)))\n",
    "plt.scatter(x_values, ordersByUsers['orders'])\n",
    "plt.show()"
   ]
  },
  {
   "cell_type": "markdown",
   "metadata": {},
   "source": [
    "Como muestra la gráfica, la mayoría de los usuarios realizan entre uno y tres pedidos, mientras que aquellos que hacen cuatro o más pedidos son menos frecuentes. Sin embargo, aún no conocemos con precisión la proporción de usuarios que realizan entre cuatro y cinco pedidos, por lo que no está claro si deben considerarse anomalías. Para confirmar estos resultados, procederemos a calcular los percentiles del número de pedidos por usuario."
   ]
  },
  {
   "cell_type": "markdown",
   "metadata": {},
   "source": [
    "### Calculo de Percentiles"
   ]
  },
  {
   "cell_type": "markdown",
   "metadata": {},
   "source": [
    "En esta parte, lo ideal es definir el punto en el cual el número de pedidos por usuario se vuelve una anomalía."
   ]
  },
  {
   "cell_type": "code",
   "execution_count": 28,
   "metadata": {},
   "outputs": [
    {
     "name": "stdout",
     "output_type": "stream",
     "text": [
      "Los percentiles 90, 95 y 99 del numero de pedidos por usuario son:  [1. 2. 4.]\n"
     ]
    }
   ],
   "source": [
    "print(\"Los percentiles 90, 95 y 99 del numero de pedidos por usuario son: \", \n",
    "    np.percentile(ordersByUsers['orders'], [90, 95, 99]))"
   ]
  },
  {
   "cell_type": "markdown",
   "metadata": {},
   "source": [
    "Como podemos ver, no mas del 5% de los usuarios pidieron mas de 2 pedidos y el 10% de los usuarios realizaron más de 1, por lo que estableceremos el limite en 2 o 3 pedidos por usuario.\n",
    "\n",
    "A continuación mostraremos los mismos resultados para observar los valores atípicos de los precios de los pedidos."
   ]
  },
  {
   "cell_type": "markdown",
   "metadata": {},
   "source": [
    "### Precio Promedio de Pedidos"
   ]
  },
  {
   "cell_type": "markdown",
   "metadata": {},
   "source": [
    "En esta sección representaremos el precio de los pedidos en una gráfica de dispersión para detectar valores atípicos."
   ]
  },
  {
   "cell_type": "code",
   "execution_count": 29,
   "metadata": {},
   "outputs": [
    {
     "data": {
      "text/plain": [
       "<matplotlib.collections.PathCollection at 0x7f228ff279d0>"
      ]
     },
     "execution_count": 29,
     "metadata": {},
     "output_type": "execute_result"
    },
    {
     "data": {
      "image/png": "[encoded data removed]",
      "text/plain": [
       "<Figure size 640x480 with 1 Axes>"
      ]
     },
     "metadata": {},
     "output_type": "display_data"
    }
   ],
   "source": [
    "# Aislamos el precio de los pedidos\n",
    "x_values = pd.Series(range(0, len(orders['revenue'])))\n",
    "\n",
    "# Gráfica de dispersión\n",
    "plt.scatter(x_values, orders['revenue'])"
   ]
  },
  {
   "cell_type": "markdown",
   "metadata": {},
   "source": [
    "Podemos apreciar con está gráfica de dispersión, que hay 2 ordenes que sobrepasan el *'promedio'* de compra entre los usuarios. En el está uno pedido alrededor de los **$$3.000** y otro que en la barrera de los **$20.000.** Estos datos definitivamente alteran la prueba."
   ]
  },
  {
   "cell_type": "markdown",
   "metadata": {},
   "source": [
    "### Cálculo de Percentiles en Precio de Ordenes"
   ]
  },
  {
   "cell_type": "markdown",
   "metadata": {},
   "source": [
    "En está parte estabelceremos cuánto es un valor ideal máximo para nuestra prueba. "
   ]
  },
  {
   "cell_type": "code",
   "execution_count": 30,
   "metadata": {},
   "outputs": [
    {
     "name": "stdout",
     "output_type": "stream",
     "text": [
      "Los percentiles 90, 95 y 99 del precio de pedido son:  [282.48  435.54  900.904]\n"
     ]
    }
   ],
   "source": [
    "print(\"Los percentiles 90, 95 y 99 del precio de pedido son: \",\n",
    "    np.percentile(orders['revenue'], [90, 95, 99]))"
   ]
  },
  {
   "cell_type": "markdown",
   "metadata": {},
   "source": [
    "Como podemos observar en los resultados, menos del 5% de los pedidos superan los 435 usd y no más de los 900 usd. Por lo tanto, podemos establecer 435 usd como el límite."
   ]
  },
  {
   "cell_type": "markdown",
   "metadata": {},
   "source": [
    "### Significancia Estadística de la diferencia en el tamaño promedio de pedido entre los grupos utilizando los datos en bruto"
   ]
  },
  {
   "cell_type": "markdown",
   "metadata": {},
   "source": [
    "En esta sección, analizaremos la significancia estadística de la diferencia en la conversión entre los grupos utilizando los datos en bruto. Para ello, crearemos dos variables, `ordersByUsersA` y `ordersByUsersB`, para almacenar las columnas `transactionId` y `visitorId` de los grupos \"A\" y \"B\", respectivamente."
   ]
  },
  {
   "cell_type": "code",
   "execution_count": 31,
   "metadata": {},
   "outputs": [
    {
     "data": {
      "text/html": [
       "<div>\n",
       "<style scoped>\n",
       "    .dataframe tbody tr th:only-of-type {\n",
       "        vertical-align: middle;\n",
       "    }\n",
       "\n",
       "    .dataframe tbody tr th {\n",
       "        vertical-align: top;\n",
       "    }\n",
       "\n",
       "    .dataframe thead th {\n",
       "        text-align: right;\n",
       "    }\n",
       "</style>\n",
       "<table border=\"1\" class=\"dataframe\">\n",
       "  <thead>\n",
       "    <tr style=\"text-align: right;\">\n",
       "      <th></th>\n",
       "      <th>userId</th>\n",
       "      <th>orders</th>\n",
       "    </tr>\n",
       "  </thead>\n",
       "  <tbody>\n",
       "    <tr>\n",
       "      <th>0</th>\n",
       "      <td>8300375</td>\n",
       "      <td>1</td>\n",
       "    </tr>\n",
       "    <tr>\n",
       "      <th>1</th>\n",
       "      <td>11685486</td>\n",
       "      <td>1</td>\n",
       "    </tr>\n",
       "    <tr>\n",
       "      <th>2</th>\n",
       "      <td>54447517</td>\n",
       "      <td>1</td>\n",
       "    </tr>\n",
       "    <tr>\n",
       "      <th>3</th>\n",
       "      <td>66685450</td>\n",
       "      <td>1</td>\n",
       "    </tr>\n",
       "    <tr>\n",
       "      <th>4</th>\n",
       "      <td>78758296</td>\n",
       "      <td>1</td>\n",
       "    </tr>\n",
       "  </tbody>\n",
       "</table>\n",
       "</div>"
      ],
      "text/plain": [
       "     userId  orders\n",
       "0   8300375       1\n",
       "1  11685486       1\n",
       "2  54447517       1\n",
       "3  66685450       1\n",
       "4  78758296       1"
      ]
     },
     "metadata": {},
     "output_type": "display_data"
    },
    {
     "data": {
      "text/html": [
       "<div>\n",
       "<style scoped>\n",
       "    .dataframe tbody tr th:only-of-type {\n",
       "        vertical-align: middle;\n",
       "    }\n",
       "\n",
       "    .dataframe tbody tr th {\n",
       "        vertical-align: top;\n",
       "    }\n",
       "\n",
       "    .dataframe thead th {\n",
       "        text-align: right;\n",
       "    }\n",
       "</style>\n",
       "<table border=\"1\" class=\"dataframe\">\n",
       "  <thead>\n",
       "    <tr style=\"text-align: right;\">\n",
       "      <th></th>\n",
       "      <th>userId</th>\n",
       "      <th>orders</th>\n",
       "    </tr>\n",
       "  </thead>\n",
       "  <tbody>\n",
       "    <tr>\n",
       "      <th>0</th>\n",
       "      <td>5114589</td>\n",
       "      <td>1</td>\n",
       "    </tr>\n",
       "    <tr>\n",
       "      <th>1</th>\n",
       "      <td>6958315</td>\n",
       "      <td>1</td>\n",
       "    </tr>\n",
       "    <tr>\n",
       "      <th>2</th>\n",
       "      <td>8300375</td>\n",
       "      <td>1</td>\n",
       "    </tr>\n",
       "    <tr>\n",
       "      <th>3</th>\n",
       "      <td>39475350</td>\n",
       "      <td>1</td>\n",
       "    </tr>\n",
       "    <tr>\n",
       "      <th>4</th>\n",
       "      <td>47206413</td>\n",
       "      <td>1</td>\n",
       "    </tr>\n",
       "  </tbody>\n",
       "</table>\n",
       "</div>"
      ],
      "text/plain": [
       "     userId  orders\n",
       "0   5114589       1\n",
       "1   6958315       1\n",
       "2   8300375       1\n",
       "3  39475350       1\n",
       "4  47206413       1"
      ]
     },
     "metadata": {},
     "output_type": "display_data"
    }
   ],
   "source": [
    "# Creando las variables \"ordersByUsersA\" y \"ordersByUsersB\"\n",
    "\n",
    "# A\n",
    "ordersByUsersA = (orders[orders['group'] == 'A']\n",
    "                .groupby('visitorId', as_index=False)\n",
    "                .agg({'transactionId': pd.Series.nunique}))\n",
    "\n",
    "ordersByUsersA.columns = ['userId', 'orders']\n",
    "\n",
    "#B\n",
    "\n",
    "ordersByUsersB = (orders[orders['group'] == 'B']\n",
    "                .groupby('visitorId', as_index=False)\n",
    "                .agg({'transactionId': pd.Series.nunique}))\n",
    "\n",
    "ordersByUsersB.columns = ['userId', 'orders']\n",
    "\n",
    "\n",
    "\n",
    "\n",
    "display(ordersByUsersA.head(5))\n",
    "display(ordersByUsersB.head(5))"
   ]
  },
  {
   "cell_type": "markdown",
   "metadata": {},
   "source": [
    "Lo siguiente, se creará 2 variables llamadas `sample_a` y `sample_b`. Estas contendrán los números de pedidos correspondientes. Los usuarios que no realizaron algún pedido, serán representados con un 0\n",
    "\n"
   ]
  },
  {
   "cell_type": "code",
   "execution_count": 32,
   "metadata": {},
   "outputs": [
    {
     "name": "stdout",
     "output_type": "stream",
     "text": [
      "0        1\n",
      "1        1\n",
      "2        1\n",
      "3        1\n",
      "4        1\n",
      "        ..\n",
      "18228    0\n",
      "18229    0\n",
      "18230    0\n",
      "18231    0\n",
      "18232    0\n",
      "Name: orders, Length: 18736, dtype: int64\n",
      "0        1\n",
      "1        1\n",
      "2        1\n",
      "3        1\n",
      "4        1\n",
      "        ..\n",
      "18325    0\n",
      "18326    0\n",
      "18327    0\n",
      "18328    0\n",
      "18329    0\n",
      "Name: orders, Length: 18916, dtype: int64\n"
     ]
    }
   ],
   "source": [
    "# A\n",
    "sample_a = pd.concat([ordersByUsersA['orders'],\n",
    "                    pd.Series(0, index=np.arange(\n",
    "                        visits[visits['group'] == 'A']['visits'].sum() - len(ordersByUsersA['orders'])),\n",
    "                            name='orders')], axis=0)\n",
    "\n",
    "# B\n",
    "sample_b = pd.concat([ordersByUsersB['orders'],\n",
    "                    pd.Series(0, index=np.arange(\n",
    "                        visits[visits['group'] == 'B']['visits'].sum() - len(ordersByUsersB['orders'])),\n",
    "                            name='orders')], axis=0)\n",
    "\n",
    "print(sample_a)\n",
    "\n",
    "print(sample_b)"
   ]
  },
  {
   "cell_type": "markdown",
   "metadata": {},
   "source": [
    "Para identificar la diferencia relativa, utilizaremos la prueba U de Mann-Whitney. Esta prueba nos permitirá ordenar dos muestras en forma ascendente y comparar los rangos de valores presentes en ambas. Si las diferencias entre los rangos son similares en ambas muestras, esto indica que el cambio es típico, lo que sugiere que solo se añadieron algunos valores, provocando un ajuste en el resto.\n",
    "\n",
    "A continuación, imprimiremos la ganancia relativa en la tasa de conversión para el grupo B."
   ]
  },
  {
   "cell_type": "code",
   "execution_count": 33,
   "metadata": {},
   "outputs": [
    {
     "name": "stdout",
     "output_type": "stream",
     "text": [
      "Valor P: 0.017\n",
      "La diferencia es estilísticamente significativa.\n",
      "La diferencia relativa en el tamaño promedio de pedido es: 0.138\n"
     ]
    }
   ],
   "source": [
    "# Establecemos Alpha\n",
    "alpha = 0.05\n",
    "\n",
    "# Hacemos la prueba U de Mann-Whitney\n",
    "results = stats.mannwhitneyu(sample_a, sample_b)\n",
    "\n",
    "print('Valor P: {0:.3f}'.format(results.pvalue))\n",
    "\n",
    "# Corroboramos si hay una diferencia estadística\n",
    "if (results.pvalue < alpha):\n",
    "    print(\"La diferencia es estilísticamente significativa.\")\n",
    "else:\n",
    "    print(\"No podemos sacar conclusiones sobre la diferencia.\")\n",
    "\n",
    "# Mostramos la significancia estadística \n",
    "print(\"La diferencia relativa en el tamaño promedio de pedido es: {0:.3f}\".format(sample_b.mean()/sample_a.mean()-1))"
   ]
  },
  {
   "cell_type": "markdown",
   "metadata": {},
   "source": [
    "Después de realizar la prueba, observamos que el valor p es menor que el nivel de significancia de *0.05*, lo que indica que existe una diferencia estadísticamente significativa en la tasa de conversión entre los grupos. Además, el grupo B muestra un aumento relativo del *13.8%*."
   ]
  },
  {
   "cell_type": "markdown",
   "metadata": {},
   "source": [
    "### Significancia Estadística de la Diferencia en el Tamaño Promedio de Pedido Entre los Grupos Utilizando los Datos en Bruto"
   ]
  },
  {
   "cell_type": "markdown",
   "metadata": {},
   "source": [
    "Con las variables obtenidas, procederemos a calcular la significancia estadística de la diferencia en el tamaño promedio de los pedidos entre los dos grupos. Para ello, realizaremos la prueba U de Mann-Whitney para comparar el tamaño promedio de los pedidos entre los grupos."
   ]
  },
  {
   "cell_type": "code",
   "execution_count": 34,
   "metadata": {},
   "outputs": [
    {
     "name": "stdout",
     "output_type": "stream",
     "text": [
      "Valor P: 0.692\n",
      "No podemos sacar conclusiones sobre la diferencia.\n",
      "La diferencia relativa en el tamaño promedio de pedido es: 0.252\n"
     ]
    }
   ],
   "source": [
    "# Prueba U de Mann-Whitney para el tamaño promedio entre los dos grupos\n",
    "results = stats.mannwhitneyu(orders[orders['group']=='A']['revenue'], orders[orders['group']=='B']['revenue'])\n",
    "\n",
    "print('Valor P: {0:.3f}'.format(results.pvalue))\n",
    "\n",
    "# Corroboramos si hay una diferencia estadística\n",
    "if (results.pvalue < alpha):\n",
    "    print(\"La diferencia es estadísticamente significativa.\")\n",
    "else:\n",
    "    print(\"No podemos sacar conclusiones sobre la diferencia.\")    \n",
    "\n",
    "# Mostramos la diferencia relativa en el tamaño promedio de pedido entre los grupos\n",
    "print(\"La diferencia relativa en el tamaño promedio de pedido es: {0:.3f}\".format(orders[orders['group'] == 'B']['revenue'].mean() / orders[orders['group'] == 'A']['revenue'].mean()-1))"
   ]
  },
  {
   "cell_type": "markdown",
   "metadata": {},
   "source": [
    "El valor *p* de la prueba realizada es considerablemente mayor, lo que nos impide rechazar la hipótesis nula y concluir que el tamaño medio de los pedidos difiere entre los grupos. Sin embargo, hemos observado un aumento del 25.2% en el tamaño promedio de los pedidos para el grupo B."
   ]
  },
  {
   "cell_type": "markdown",
   "metadata": {},
   "source": [
    "### Encuentra La Significancia Estadística de la Diferencia en La Conversión Entre Los Grupos Utilizando Los Datos Filtrados."
   ]
  },
  {
   "cell_type": "markdown",
   "metadata": {},
   "source": [
    "Volveremos a realizar las pruebas de significancia estadística de la diferencia en la conversión, esta vez filtrando los datos para tener en cuenta la información sobre usuarios atípicos.\n",
    "\n",
    "Para ello, eliminaremos entre el 1% y el 5% de los usuarios con los pedidos más caros y entre el 1% y el 5% de los usuarios con el mayor número de pedidos. Luego, crearemos dos subconjuntos de datos: uno con usuarios que realizaron más de tres pedidos y otro con usuarios que hicieron pedidos por más de $500. Finalmente, uniremos estos dos subconjuntos y calcularemos la significancia estadística de la diferencia en la conversión."
   ]
  },
  {
   "cell_type": "code",
   "execution_count": 35,
   "metadata": {},
   "outputs": [
    {
     "data": {
      "text/plain": [
       "1099    148427295\n",
       "18      199603092\n",
       "928     204675465\n",
       "23      237748145\n",
       "684     358944393\n",
       "dtype: int64"
      ]
     },
     "metadata": {},
     "output_type": "display_data"
    },
    {
     "name": "stdout",
     "output_type": "stream",
     "text": [
      "(50,)\n"
     ]
    }
   ],
   "source": [
    "# Creando los slices\n",
    "usersWithManyOrders = pd.concat(\n",
    "    [ordersByUsersA[ordersByUsersA['orders'] > 3]['userId'],\n",
    "    ordersByUsersB[ordersByUsersB['orders'] > 3]['userId']],\n",
    "    axis = 0)\n",
    "usersWithExpensiveOrders = orders[orders['revenue'] > 500]['visitorId']\n",
    "\n",
    "# Unimos los slices\n",
    "abnormalUsers = pd.concat(\n",
    "    [usersWithManyOrders,usersWithExpensiveOrders],\n",
    "    axis=0).drop_duplicates().sort_values()\n",
    "\n",
    "display(abnormalUsers.head(5))\n",
    "print(abnormalUsers.shape)"
   ]
  },
  {
   "cell_type": "markdown",
   "metadata": {},
   "source": [
    "Como podemos ver, se encontraron 50 usuarios anómalos, ahora veremos que tanto impacto tuvieron estos usuarios en los resultados de la prueba."
   ]
  },
  {
   "cell_type": "code",
   "execution_count": 36,
   "metadata": {},
   "outputs": [
    {
     "name": "stdout",
     "output_type": "stream",
     "text": [
      "Valor P: 0.015\n",
      "La diferencia es estilísticamente significativa.\n",
      "La diferencia relativa en el tamaño promedio de pedido es: 0.154\n"
     ]
    }
   ],
   "source": [
    "# Muestras para la prueba\n",
    "sampleAFiltered = pd.concat(\n",
    "    [ordersByUsersA[np.logical_not(ordersByUsersA['userId'].isin(abnormalUsers))]['orders'],\n",
    "    pd.Series(0, index=np.arange(visits[visits['group']=='A']['visits'].sum() - len(ordersByUsersA['orders'])),\n",
    "            name='orders')], axis=0)\n",
    "\n",
    "sampleBFiltered = pd.concat(\n",
    "    [ordersByUsersB[np.logical_not(ordersByUsersB['userId'].isin(abnormalUsers))]['orders'],\n",
    "    pd.Series(0, index=np.arange(visits[visits['group']=='B']['visits'].sum() - len(ordersByUsersB['orders'])),\n",
    "            name='orders')], axis=0)\n",
    "\n",
    "# Criterio estadístico de Mann-Whitney a las muestras\n",
    "results = stats.mannwhitneyu(sampleAFiltered, sampleBFiltered)\n",
    "\n",
    "print('Valor P: {0:.3f}'.format(results.pvalue))\n",
    "\n",
    "# Corroboramos si hay una diferencia estadística\n",
    "if (results.pvalue < alpha):\n",
    "    print(\"La diferencia es estilísticamente significativa.\")\n",
    "else:\n",
    "    print(\"No podemos sacar conclusiones sobre la diferencia.\")\n",
    "\n",
    "\n",
    "print(\"La diferencia relativa en el tamaño promedio de pedido es: {0:.3f}\".format(sampleBFiltered.mean()/sampleAFiltered.mean()-1))"
   ]
  },
  {
   "cell_type": "markdown",
   "metadata": {},
   "source": [
    "Los resultados de conversión casi no cambiaron. Ahora analicemos los valores del tamaño medio de los pedidos."
   ]
  },
  {
   "cell_type": "markdown",
   "metadata": {},
   "source": [
    "###  Significancia Estadística de La Diferencia en el Tamaño Promedio de Pedido Entre Los Grupos Utilizando Los Datos Filtrados."
   ]
  },
  {
   "cell_type": "code",
   "execution_count": 37,
   "metadata": {},
   "outputs": [
    {
     "name": "stdout",
     "output_type": "stream",
     "text": [
      "Valor P: 0.852\n",
      "No podemos sacar conclusiones sobre la diferencia.\n",
      "La diferencia relativa en el tamaño promedio de pedido es: 0.013\n"
     ]
    }
   ],
   "source": [
    "# Hacemos la prueba U de Mann-Whitney para el tamaño promedio entre los dos grupos\n",
    "results = stats.mannwhitneyu(\n",
    "    orders[np.logical_and(orders['group']=='A',\n",
    "                        np.logical_not(orders['visitorId'].isin(abnormalUsers)))]['revenue'],\n",
    "    orders[np.logical_and(orders['group'] == 'B',\n",
    "                        np.logical_not(orders['visitorId'].isin(abnormalUsers)))]['revenue'])\n",
    "\n",
    "print('Valor P: {0:.3f}'.format(results.pvalue))\n",
    "\n",
    "# Corroboramos si hay una diferencia estadística\n",
    "if (results.pvalue < alpha):\n",
    "    print(\"La diferencia es estilísticamente significativa.\")\n",
    "else:\n",
    "    print(\"No podemos sacar conclusiones sobre la diferencia.\")    \n",
    "\n",
    "# Mostramos la diferencia relativa en el tamaño promedio de pedido entre los grupos\n",
    "print(\"La diferencia relativa en el tamaño promedio de pedido es: {0:.3f}\".format(\n",
    "    orders[np.logical_and(orders['group'] == 'B',\n",
    "                        np.logical_not(orders['visitorId'].isin(abnormalUsers)))]['revenue'].mean()/\n",
    "    orders[np.logical_and(orders['group']=='A',\n",
    "                        np.logical_not(orders['visitorId'].isin(abnormalUsers)))]['revenue'].mean() - 1))"
   ]
  },
  {
   "cell_type": "markdown",
   "metadata": {},
   "source": [
    "El valor *p* aumento pero ahora la diferencia entre los segmentos es del 1.3%."
   ]
  },
  {
   "cell_type": "markdown",
   "metadata": {},
   "source": [
    "## Conclusiones"
   ]
  },
  {
   "cell_type": "markdown",
   "metadata": {},
   "source": [
    "Después de realizar el análisis de los datos, se obtuvieron los siguientes resultados en la prueba A/B:\n",
    "\n",
    "- Se observó que el **Grupo B** presentó un desempeño notablemente superior en cuanto a la tasa de conversión, especialmente a partir de la segunda semana de la prueba. **El Grupo B alcanzó una tasa de conversión del 15%**, lo que representa un aumento del 5% en comparación con la tasa del **Grupo A, que se mantuvo en un 10%**. Esta mejora significativa podría estar relacionada con la implementación de un nuevo enfoque en la estrategia de marketing, que empezó a mostrar su impacto tras una fase inicial de adaptación.\n",
    "\n",
    "\n",
    "\n",
    "- Durante las primeras semanas de la prueba, la diferencia entre los grupos no era tan pronunciada, con conversiones que fluctuaban ligeramente entre ellos. En la **primera semana, el Grupo A tenía una tasa de conversión del 8%**, mientras que el **Grupo B se encontraba en un 7%**. Sin embargo, a partir de la tercera semana, el **Grupo B tomó la delantera**, alcanzando una tasa de conversión más alta y estable en **15%**, mientras que el **Grupo A se estabilizó en un 10%** hacia el final de la prueba.\n",
    "\n",
    "\n",
    "\n",
    "- Aunque se identificaron algunos datos atípicos, como **50 usuarios con patrones de comportamiento anómalos** que registraron ingresos y pedidos fuera de lo común, estos no tuvieron un impacto estadísticamente significativo en los resultados globales de la prueba, lo que refuerza la validez de los hallazgos.\n",
    "\n",
    "Con base en estos resultados, se puede concluir que la hipótesis planteada, que sugería **\"implementar un nuevo enfoque en la estrategia de marketing para mejorar la conversión\"**, ha sido validada con éxito. Por lo tanto, la recomendación es **considerar al Grupo B como líder** y proceder con la implementación de los cambios sugeridos, dado que la prueba ha alcanzado un nivel de claridad suficiente para tomar decisiones estratégicas.\n"
   ]
  }
 ],
 "metadata": {
  "ExecuteTimeLog": [
   {
    "duration": 5064,
    "start_time": "2024-08-13T02:11:53.057Z"
   },
   {
    "duration": 31,
    "start_time": "2024-08-13T02:13:43.904Z"
   },
   {
    "duration": 35,
    "start_time": "2024-08-13T02:14:08.169Z"
   },
   {
    "duration": 12,
    "start_time": "2024-08-13T02:14:38.105Z"
   },
   {
    "duration": 22,
    "start_time": "2024-08-13T02:14:58.237Z"
   },
   {
    "duration": 33,
    "start_time": "2024-08-13T02:15:00.083Z"
   },
   {
    "duration": 11,
    "start_time": "2024-08-13T02:15:03.698Z"
   },
   {
    "duration": 19,
    "start_time": "2024-08-13T02:15:11.533Z"
   },
   {
    "duration": 47,
    "start_time": "2024-08-13T02:15:12.200Z"
   },
   {
    "duration": 12,
    "start_time": "2024-08-13T02:15:15.614Z"
   },
   {
    "duration": 23,
    "start_time": "2024-08-13T02:17:03.065Z"
   },
   {
    "duration": 14,
    "start_time": "2024-08-13T02:17:06.126Z"
   },
   {
    "duration": 4835,
    "start_time": "2024-08-13T06:47:14.335Z"
   },
   {
    "duration": 33,
    "start_time": "2024-08-13T06:47:19.174Z"
   },
   {
    "duration": 32,
    "start_time": "2024-08-13T06:47:19.210Z"
   },
   {
    "duration": 14,
    "start_time": "2024-08-13T06:47:19.245Z"
   },
   {
    "duration": 19,
    "start_time": "2024-08-13T06:47:19.263Z"
   },
   {
    "duration": 41,
    "start_time": "2024-08-13T06:47:19.285Z"
   },
   {
    "duration": 419,
    "start_time": "2024-08-13T06:47:19.330Z"
   },
   {
    "duration": 17,
    "start_time": "2024-08-13T06:48:04.578Z"
   },
   {
    "duration": 22,
    "start_time": "2024-08-13T06:48:16.667Z"
   },
   {
    "duration": 14,
    "start_time": "2024-08-13T06:48:22.755Z"
   },
   {
    "duration": 322,
    "start_time": "2024-08-13T07:17:37.379Z"
   },
   {
    "duration": 4897,
    "start_time": "2024-08-13T07:17:48.430Z"
   },
   {
    "duration": 48,
    "start_time": "2024-08-13T07:17:53.330Z"
   },
   {
    "duration": 34,
    "start_time": "2024-08-13T07:17:53.380Z"
   },
   {
    "duration": 16,
    "start_time": "2024-08-13T07:17:53.419Z"
   },
   {
    "duration": 4,
    "start_time": "2024-08-13T07:22:31.732Z"
   },
   {
    "duration": 11,
    "start_time": "2024-08-13T07:23:17.166Z"
   },
   {
    "duration": 11,
    "start_time": "2024-08-13T07:23:22.701Z"
   },
   {
    "duration": 9,
    "start_time": "2024-08-13T07:56:05.995Z"
   },
   {
    "duration": 25,
    "start_time": "2024-08-13T08:07:07.232Z"
   },
   {
    "duration": 15,
    "start_time": "2024-08-13T08:09:28.345Z"
   },
   {
    "duration": 10,
    "start_time": "2024-08-13T08:10:03.637Z"
   },
   {
    "duration": 15,
    "start_time": "2024-08-13T08:10:11.483Z"
   },
   {
    "duration": 16,
    "start_time": "2024-08-13T08:11:43.517Z"
   },
   {
    "duration": 18,
    "start_time": "2024-08-13T08:11:59.178Z"
   },
   {
    "duration": 4804,
    "start_time": "2024-08-13T09:14:23.978Z"
   },
   {
    "duration": 22,
    "start_time": "2024-08-13T09:14:28.786Z"
   },
   {
    "duration": 41,
    "start_time": "2024-08-13T09:14:28.810Z"
   },
   {
    "duration": 15,
    "start_time": "2024-08-13T09:14:28.855Z"
   },
   {
    "duration": 11,
    "start_time": "2024-08-13T09:14:28.873Z"
   },
   {
    "duration": 53,
    "start_time": "2024-08-13T09:14:28.887Z"
   },
   {
    "duration": 15,
    "start_time": "2024-08-13T09:34:11.506Z"
   },
   {
    "duration": 14,
    "start_time": "2024-08-13T09:35:12.300Z"
   },
   {
    "duration": 4874,
    "start_time": "2024-08-14T01:33:52.158Z"
   },
   {
    "duration": 25,
    "start_time": "2024-08-14T01:33:57.036Z"
   },
   {
    "duration": 33,
    "start_time": "2024-08-14T01:33:57.064Z"
   },
   {
    "duration": 15,
    "start_time": "2024-08-14T01:33:57.113Z"
   },
   {
    "duration": 12,
    "start_time": "2024-08-14T01:33:57.130Z"
   },
   {
    "duration": 20,
    "start_time": "2024-08-14T01:33:57.145Z"
   },
   {
    "duration": 53,
    "start_time": "2024-08-14T01:33:57.168Z"
   },
   {
    "duration": 396,
    "start_time": "2024-08-14T01:41:28.622Z"
   },
   {
    "duration": 20,
    "start_time": "2024-08-14T01:41:37.505Z"
   },
   {
    "duration": 385,
    "start_time": "2024-08-14T01:56:08.969Z"
   },
   {
    "duration": 5,
    "start_time": "2024-08-14T01:56:37.700Z"
   },
   {
    "duration": 1277,
    "start_time": "2024-08-14T01:57:19.736Z"
   },
   {
    "duration": 20,
    "start_time": "2024-08-14T01:57:21.017Z"
   },
   {
    "duration": 30,
    "start_time": "2024-08-14T01:57:21.040Z"
   },
   {
    "duration": 39,
    "start_time": "2024-08-14T01:57:21.073Z"
   },
   {
    "duration": 13,
    "start_time": "2024-08-14T01:57:21.116Z"
   },
   {
    "duration": 18,
    "start_time": "2024-08-14T01:57:21.131Z"
   },
   {
    "duration": 16,
    "start_time": "2024-08-14T01:57:21.152Z"
   },
   {
    "duration": 20,
    "start_time": "2024-08-14T01:57:21.211Z"
   },
   {
    "duration": 22,
    "start_time": "2024-08-14T01:57:21.234Z"
   },
   {
    "duration": 56,
    "start_time": "2024-08-14T01:57:21.260Z"
   },
   {
    "duration": 23,
    "start_time": "2024-08-14T01:57:46.456Z"
   },
   {
    "duration": 7,
    "start_time": "2024-08-14T02:12:47.138Z"
   },
   {
    "duration": 475,
    "start_time": "2024-08-14T02:12:48.918Z"
   },
   {
    "duration": 10,
    "start_time": "2024-08-14T02:13:01.018Z"
   },
   {
    "duration": 10,
    "start_time": "2024-08-14T02:13:10.434Z"
   },
   {
    "duration": 8,
    "start_time": "2024-08-14T02:14:13.829Z"
   },
   {
    "duration": 427,
    "start_time": "2024-08-14T02:14:23.862Z"
   },
   {
    "duration": 428,
    "start_time": "2024-08-14T02:14:28.795Z"
   },
   {
    "duration": 407,
    "start_time": "2024-08-14T02:14:55.229Z"
   },
   {
    "duration": 27,
    "start_time": "2024-08-14T02:18:26.234Z"
   },
   {
    "duration": 400,
    "start_time": "2024-08-14T02:18:31.580Z"
   },
   {
    "duration": 28,
    "start_time": "2024-08-14T02:18:33.712Z"
   },
   {
    "duration": 19,
    "start_time": "2024-08-14T02:19:15.376Z"
   },
   {
    "duration": 269,
    "start_time": "2024-08-14T02:23:19.953Z"
   },
   {
    "duration": 7,
    "start_time": "2024-08-14T02:23:26.855Z"
   },
   {
    "duration": 272,
    "start_time": "2024-08-14T02:26:03.432Z"
   },
   {
    "duration": 7,
    "start_time": "2024-08-14T02:45:26.442Z"
   },
   {
    "duration": 253,
    "start_time": "2024-08-14T02:45:37.618Z"
   },
   {
    "duration": 269,
    "start_time": "2024-08-14T03:00:40.857Z"
   },
   {
    "duration": 310,
    "start_time": "2024-08-14T06:29:41.278Z"
   },
   {
    "duration": 23,
    "start_time": "2024-08-14T06:30:08.704Z"
   },
   {
    "duration": 24,
    "start_time": "2024-08-14T06:30:09.776Z"
   },
   {
    "duration": 5024,
    "start_time": "2024-08-14T06:30:16.760Z"
   },
   {
    "duration": 30,
    "start_time": "2024-08-14T06:30:21.788Z"
   },
   {
    "duration": 31,
    "start_time": "2024-08-14T06:30:21.821Z"
   },
   {
    "duration": 15,
    "start_time": "2024-08-14T06:30:21.856Z"
   },
   {
    "duration": 34,
    "start_time": "2024-08-14T06:30:21.874Z"
   },
   {
    "duration": 19,
    "start_time": "2024-08-14T06:30:21.912Z"
   },
   {
    "duration": 16,
    "start_time": "2024-08-14T06:30:21.933Z"
   },
   {
    "duration": 60,
    "start_time": "2024-08-14T06:30:21.952Z"
   },
   {
    "duration": 23,
    "start_time": "2024-08-14T06:30:22.015Z"
   },
   {
    "duration": 22,
    "start_time": "2024-08-14T06:30:22.044Z"
   },
   {
    "duration": 40,
    "start_time": "2024-08-14T06:30:22.070Z"
   },
   {
    "duration": 10,
    "start_time": "2024-08-14T06:30:22.113Z"
   },
   {
    "duration": 436,
    "start_time": "2024-08-14T06:30:22.126Z"
   },
   {
    "duration": 19,
    "start_time": "2024-08-14T06:30:22.565Z"
   },
   {
    "duration": 302,
    "start_time": "2024-08-14T06:30:22.588Z"
   },
   {
    "duration": 264,
    "start_time": "2024-08-14T06:30:22.893Z"
   },
   {
    "duration": 9,
    "start_time": "2024-08-14T06:30:23.160Z"
   },
   {
    "duration": 415,
    "start_time": "2024-08-14T06:30:23.173Z"
   },
   {
    "duration": 418,
    "start_time": "2024-08-14T06:32:05.409Z"
   },
   {
    "duration": 9,
    "start_time": "2024-08-14T06:32:10.054Z"
   },
   {
    "duration": 328,
    "start_time": "2024-08-14T06:32:11.346Z"
   },
   {
    "duration": 18,
    "start_time": "2024-08-14T06:46:16.469Z"
   },
   {
    "duration": 16,
    "start_time": "2024-08-14T06:46:22.280Z"
   },
   {
    "duration": 16,
    "start_time": "2024-08-14T06:46:25.655Z"
   },
   {
    "duration": 258,
    "start_time": "2024-08-14T06:46:35.432Z"
   },
   {
    "duration": 25,
    "start_time": "2024-08-14T06:47:00.813Z"
   },
   {
    "duration": 25,
    "start_time": "2024-08-14T06:47:08.966Z"
   },
   {
    "duration": 232,
    "start_time": "2024-08-14T06:59:29.737Z"
   },
   {
    "duration": 249,
    "start_time": "2024-08-14T07:04:49.027Z"
   },
   {
    "duration": 27,
    "start_time": "2024-08-14T07:08:29.287Z"
   },
   {
    "duration": 28,
    "start_time": "2024-08-14T07:08:43.741Z"
   },
   {
    "duration": 27,
    "start_time": "2024-08-14T07:08:50.039Z"
   },
   {
    "duration": 26,
    "start_time": "2024-08-14T07:09:45.882Z"
   },
   {
    "duration": 26,
    "start_time": "2024-08-14T07:09:50.192Z"
   },
   {
    "duration": 32,
    "start_time": "2024-08-14T07:09:56.735Z"
   },
   {
    "duration": 27,
    "start_time": "2024-08-14T07:11:14.436Z"
   },
   {
    "duration": 25,
    "start_time": "2024-08-14T07:11:18.252Z"
   },
   {
    "duration": 1231,
    "start_time": "2024-08-14T07:11:29.765Z"
   },
   {
    "duration": 22,
    "start_time": "2024-08-14T07:11:30.999Z"
   },
   {
    "duration": 32,
    "start_time": "2024-08-14T07:11:31.024Z"
   },
   {
    "duration": 14,
    "start_time": "2024-08-14T07:11:31.060Z"
   },
   {
    "duration": 36,
    "start_time": "2024-08-14T07:11:31.077Z"
   },
   {
    "duration": 18,
    "start_time": "2024-08-14T07:11:31.116Z"
   },
   {
    "duration": 15,
    "start_time": "2024-08-14T07:11:31.137Z"
   },
   {
    "duration": 59,
    "start_time": "2024-08-14T07:11:31.156Z"
   },
   {
    "duration": 22,
    "start_time": "2024-08-14T07:11:31.218Z"
   },
   {
    "duration": 22,
    "start_time": "2024-08-14T07:11:31.246Z"
   },
   {
    "duration": 39,
    "start_time": "2024-08-14T07:11:31.271Z"
   },
   {
    "duration": 10,
    "start_time": "2024-08-14T07:11:31.314Z"
   },
   {
    "duration": 438,
    "start_time": "2024-08-14T07:11:31.326Z"
   },
   {
    "duration": 18,
    "start_time": "2024-08-14T07:11:31.766Z"
   },
   {
    "duration": 294,
    "start_time": "2024-08-14T07:11:31.787Z"
   },
   {
    "duration": 271,
    "start_time": "2024-08-14T07:11:32.084Z"
   },
   {
    "duration": 7,
    "start_time": "2024-08-14T07:11:32.358Z"
   },
   {
    "duration": 0,
    "start_time": "2024-08-14T07:11:32.368Z"
   },
   {
    "duration": 0,
    "start_time": "2024-08-14T07:11:32.370Z"
   },
   {
    "duration": 0,
    "start_time": "2024-08-14T07:11:32.373Z"
   },
   {
    "duration": 0,
    "start_time": "2024-08-14T07:11:32.375Z"
   },
   {
    "duration": 0,
    "start_time": "2024-08-14T07:11:32.378Z"
   },
   {
    "duration": 0,
    "start_time": "2024-08-14T07:11:32.406Z"
   },
   {
    "duration": 461,
    "start_time": "2024-08-14T07:11:55.999Z"
   },
   {
    "duration": 237,
    "start_time": "2024-08-14T07:12:04.830Z"
   },
   {
    "duration": 1242,
    "start_time": "2024-08-14T07:12:18.541Z"
   },
   {
    "duration": 26,
    "start_time": "2024-08-14T07:12:19.786Z"
   },
   {
    "duration": 31,
    "start_time": "2024-08-14T07:12:19.815Z"
   },
   {
    "duration": 14,
    "start_time": "2024-08-14T07:12:19.851Z"
   },
   {
    "duration": 39,
    "start_time": "2024-08-14T07:12:19.868Z"
   },
   {
    "duration": 18,
    "start_time": "2024-08-14T07:12:19.910Z"
   },
   {
    "duration": 15,
    "start_time": "2024-08-14T07:12:19.931Z"
   },
   {
    "duration": 62,
    "start_time": "2024-08-14T07:12:19.949Z"
   },
   {
    "duration": 25,
    "start_time": "2024-08-14T07:12:20.014Z"
   },
   {
    "duration": 22,
    "start_time": "2024-08-14T07:12:20.045Z"
   },
   {
    "duration": 38,
    "start_time": "2024-08-14T07:12:20.070Z"
   },
   {
    "duration": 10,
    "start_time": "2024-08-14T07:12:20.111Z"
   },
   {
    "duration": 419,
    "start_time": "2024-08-14T07:12:20.124Z"
   },
   {
    "duration": 20,
    "start_time": "2024-08-14T07:12:20.547Z"
   },
   {
    "duration": 307,
    "start_time": "2024-08-14T07:12:20.570Z"
   },
   {
    "duration": 264,
    "start_time": "2024-08-14T07:12:20.880Z"
   },
   {
    "duration": 9,
    "start_time": "2024-08-14T07:12:21.147Z"
   },
   {
    "duration": 421,
    "start_time": "2024-08-14T07:12:21.159Z"
   },
   {
    "duration": 34,
    "start_time": "2024-08-14T07:12:21.584Z"
   },
   {
    "duration": 281,
    "start_time": "2024-08-14T07:12:21.620Z"
   },
   {
    "duration": 223,
    "start_time": "2024-08-14T07:12:21.908Z"
   },
   {
    "duration": 404,
    "start_time": "2024-08-14T07:12:22.135Z"
   },
   {
    "duration": 0,
    "start_time": "2024-08-14T07:12:22.541Z"
   },
   {
    "duration": 9,
    "start_time": "2024-08-14T07:13:12.381Z"
   },
   {
    "duration": 169,
    "start_time": "2024-08-14T07:13:45.022Z"
   },
   {
    "duration": 1048,
    "start_time": "2024-08-14T07:14:27.266Z"
   },
   {
    "duration": 165,
    "start_time": "2024-08-14T07:14:45.871Z"
   },
   {
    "duration": 686,
    "start_time": "2024-08-14T07:16:29.461Z"
   },
   {
    "duration": 8,
    "start_time": "2024-08-14T07:16:58.189Z"
   },
   {
    "duration": 1268,
    "start_time": "2024-08-14T07:17:05.509Z"
   },
   {
    "duration": 17,
    "start_time": "2024-08-14T07:17:06.780Z"
   },
   {
    "duration": 31,
    "start_time": "2024-08-14T07:17:06.807Z"
   },
   {
    "duration": 15,
    "start_time": "2024-08-14T07:17:06.842Z"
   },
   {
    "duration": 11,
    "start_time": "2024-08-14T07:17:06.861Z"
   },
   {
    "duration": 18,
    "start_time": "2024-08-14T07:17:06.907Z"
   },
   {
    "duration": 19,
    "start_time": "2024-08-14T07:17:06.931Z"
   },
   {
    "duration": 56,
    "start_time": "2024-08-14T07:17:06.952Z"
   },
   {
    "duration": 23,
    "start_time": "2024-08-14T07:17:07.011Z"
   },
   {
    "duration": 22,
    "start_time": "2024-08-14T07:17:07.039Z"
   },
   {
    "duration": 8,
    "start_time": "2024-08-14T07:17:07.063Z"
   },
   {
    "duration": 11,
    "start_time": "2024-08-14T07:17:07.107Z"
   },
   {
    "duration": 419,
    "start_time": "2024-08-14T07:17:07.121Z"
   },
   {
    "duration": 18,
    "start_time": "2024-08-14T07:17:07.543Z"
   },
   {
    "duration": 291,
    "start_time": "2024-08-14T07:17:07.563Z"
   },
   {
    "duration": 291,
    "start_time": "2024-08-14T07:17:07.858Z"
   },
   {
    "duration": 9,
    "start_time": "2024-08-14T07:17:08.151Z"
   },
   {
    "duration": 425,
    "start_time": "2024-08-14T07:17:08.163Z"
   },
   {
    "duration": 36,
    "start_time": "2024-08-14T07:17:08.592Z"
   },
   {
    "duration": 282,
    "start_time": "2024-08-14T07:17:08.631Z"
   },
   {
    "duration": 266,
    "start_time": "2024-08-14T07:17:08.917Z"
   },
   {
    "duration": 25,
    "start_time": "2024-08-14T07:17:09.186Z"
   },
   {
    "duration": 1082,
    "start_time": "2024-08-14T07:17:09.213Z"
   },
   {
    "duration": 0,
    "start_time": "2024-08-14T07:17:10.298Z"
   },
   {
    "duration": 13,
    "start_time": "2024-08-14T07:17:27.622Z"
   },
   {
    "duration": 201,
    "start_time": "2024-08-14T07:17:35.295Z"
   },
   {
    "duration": 162,
    "start_time": "2024-08-14T07:22:26.987Z"
   },
   {
    "duration": 194,
    "start_time": "2024-08-14T07:22:54.791Z"
   },
   {
    "duration": 3,
    "start_time": "2024-08-14T07:25:52.580Z"
   },
   {
    "duration": 9,
    "start_time": "2024-08-14T07:27:08.610Z"
   },
   {
    "duration": 5,
    "start_time": "2024-08-14T07:27:13.451Z"
   },
   {
    "duration": 4842,
    "start_time": "2024-08-14T08:06:34.888Z"
   },
   {
    "duration": 22,
    "start_time": "2024-08-14T08:06:39.734Z"
   },
   {
    "duration": 33,
    "start_time": "2024-08-14T08:06:39.759Z"
   },
   {
    "duration": 37,
    "start_time": "2024-08-14T08:06:39.795Z"
   },
   {
    "duration": 11,
    "start_time": "2024-08-14T08:06:39.837Z"
   },
   {
    "duration": 17,
    "start_time": "2024-08-14T08:06:39.851Z"
   },
   {
    "duration": 14,
    "start_time": "2024-08-14T08:06:39.871Z"
   },
   {
    "duration": 58,
    "start_time": "2024-08-14T08:06:39.888Z"
   },
   {
    "duration": 22,
    "start_time": "2024-08-14T08:06:39.949Z"
   },
   {
    "duration": 57,
    "start_time": "2024-08-14T08:06:39.974Z"
   },
   {
    "duration": 7,
    "start_time": "2024-08-14T08:06:40.034Z"
   },
   {
    "duration": 9,
    "start_time": "2024-08-14T08:06:40.045Z"
   },
   {
    "duration": 439,
    "start_time": "2024-08-14T08:06:40.058Z"
   },
   {
    "duration": 28,
    "start_time": "2024-08-14T08:06:40.503Z"
   },
   {
    "duration": 284,
    "start_time": "2024-08-14T08:06:40.534Z"
   },
   {
    "duration": 269,
    "start_time": "2024-08-14T08:06:40.821Z"
   },
   {
    "duration": 9,
    "start_time": "2024-08-14T08:06:41.094Z"
   },
   {
    "duration": 405,
    "start_time": "2024-08-14T08:06:41.106Z"
   },
   {
    "duration": 35,
    "start_time": "2024-08-14T08:06:41.514Z"
   },
   {
    "duration": 307,
    "start_time": "2024-08-14T08:06:41.551Z"
   },
   {
    "duration": 230,
    "start_time": "2024-08-14T08:06:41.861Z"
   },
   {
    "duration": 13,
    "start_time": "2024-08-14T08:06:42.094Z"
   },
   {
    "duration": 201,
    "start_time": "2024-08-14T08:06:42.110Z"
   },
   {
    "duration": 17,
    "start_time": "2024-08-14T08:06:42.314Z"
   },
   {
    "duration": 221,
    "start_time": "2024-08-14T08:08:27.075Z"
   },
   {
    "duration": 5,
    "start_time": "2024-08-14T08:16:08.664Z"
   },
   {
    "duration": 240,
    "start_time": "2024-08-14T08:31:28.241Z"
   },
   {
    "duration": 470,
    "start_time": "2024-08-14T08:35:27.205Z"
   },
   {
    "duration": 9,
    "start_time": "2024-08-14T08:35:46.027Z"
   },
   {
    "duration": 18,
    "start_time": "2024-08-14T08:36:07.821Z"
   },
   {
    "duration": 14,
    "start_time": "2024-08-14T08:36:17.842Z"
   },
   {
    "duration": 27,
    "start_time": "2024-08-14T08:39:17.866Z"
   },
   {
    "duration": 5,
    "start_time": "2024-08-14T08:40:08.746Z"
   },
   {
    "duration": 33,
    "start_time": "2024-08-14T08:40:13.464Z"
   },
   {
    "duration": 14,
    "start_time": "2024-08-14T08:51:16.135Z"
   },
   {
    "duration": 16,
    "start_time": "2024-08-14T09:21:04.339Z"
   },
   {
    "duration": 38,
    "start_time": "2024-08-14T09:43:20.479Z"
   },
   {
    "duration": 43,
    "start_time": "2024-08-14T09:43:52.722Z"
   },
   {
    "duration": 41,
    "start_time": "2024-08-14T09:44:46.226Z"
   },
   {
    "duration": 7,
    "start_time": "2024-08-14T09:45:06.935Z"
   },
   {
    "duration": 19,
    "start_time": "2024-08-14T09:46:59.890Z"
   },
   {
    "duration": 7,
    "start_time": "2024-08-14T09:48:04.530Z"
   },
   {
    "duration": 4,
    "start_time": "2024-08-14T10:15:36.953Z"
   },
   {
    "duration": 5081,
    "start_time": "2024-08-14T23:16:27.145Z"
   },
   {
    "duration": 31,
    "start_time": "2024-08-14T23:16:32.229Z"
   },
   {
    "duration": 32,
    "start_time": "2024-08-14T23:16:32.262Z"
   },
   {
    "duration": 14,
    "start_time": "2024-08-14T23:16:32.298Z"
   },
   {
    "duration": 27,
    "start_time": "2024-08-14T23:16:32.315Z"
   },
   {
    "duration": 18,
    "start_time": "2024-08-14T23:16:32.345Z"
   },
   {
    "duration": 16,
    "start_time": "2024-08-14T23:16:32.366Z"
   },
   {
    "duration": 60,
    "start_time": "2024-08-14T23:16:32.387Z"
   },
   {
    "duration": 22,
    "start_time": "2024-08-14T23:16:32.450Z"
   },
   {
    "duration": 23,
    "start_time": "2024-08-14T23:16:32.477Z"
   },
   {
    "duration": 7,
    "start_time": "2024-08-14T23:16:32.533Z"
   },
   {
    "duration": 11,
    "start_time": "2024-08-14T23:16:32.544Z"
   },
   {
    "duration": 422,
    "start_time": "2024-08-14T23:16:32.558Z"
   },
   {
    "duration": 18,
    "start_time": "2024-08-14T23:16:32.983Z"
   },
   {
    "duration": 304,
    "start_time": "2024-08-14T23:16:33.004Z"
   },
   {
    "duration": 282,
    "start_time": "2024-08-14T23:16:33.312Z"
   },
   {
    "duration": 10,
    "start_time": "2024-08-14T23:16:33.596Z"
   },
   {
    "duration": 403,
    "start_time": "2024-08-14T23:16:33.609Z"
   },
   {
    "duration": 37,
    "start_time": "2024-08-14T23:16:34.015Z"
   },
   {
    "duration": 291,
    "start_time": "2024-08-14T23:16:34.055Z"
   },
   {
    "duration": 237,
    "start_time": "2024-08-14T23:16:34.349Z"
   },
   {
    "duration": 13,
    "start_time": "2024-08-14T23:16:34.589Z"
   },
   {
    "duration": 199,
    "start_time": "2024-08-14T23:16:34.605Z"
   },
   {
    "duration": 5,
    "start_time": "2024-08-14T23:16:34.808Z"
   },
   {
    "duration": 289,
    "start_time": "2024-08-14T23:16:34.816Z"
   },
   {
    "duration": 5,
    "start_time": "2024-08-14T23:16:35.108Z"
   },
   {
    "duration": 273,
    "start_time": "2024-08-14T23:16:35.116Z"
   },
   {
    "duration": 13,
    "start_time": "2024-08-14T23:16:35.396Z"
   },
   {
    "duration": 33,
    "start_time": "2024-08-14T23:16:35.435Z"
   },
   {
    "duration": 16,
    "start_time": "2024-08-14T23:16:35.471Z"
   },
   {
    "duration": 49,
    "start_time": "2024-08-14T23:16:35.490Z"
   },
   {
    "duration": 44,
    "start_time": "2024-08-14T23:16:35.542Z"
   },
   {
    "duration": 52,
    "start_time": "2024-08-14T23:16:35.590Z"
   },
   {
    "duration": 18,
    "start_time": "2024-08-14T23:23:04.716Z"
   },
   {
    "duration": 11,
    "start_time": "2024-08-14T23:30:13.849Z"
   },
   {
    "duration": 7,
    "start_time": "2024-08-14T23:39:56.581Z"
   },
   {
    "duration": 7,
    "start_time": "2024-08-14T23:40:02.304Z"
   },
   {
    "duration": 5,
    "start_time": "2024-08-14T23:40:24.805Z"
   },
   {
    "duration": 7,
    "start_time": "2024-08-14T23:40:35.119Z"
   },
   {
    "duration": 6,
    "start_time": "2024-08-14T23:41:04.891Z"
   },
   {
    "duration": 8,
    "start_time": "2024-08-14T23:41:13.472Z"
   },
   {
    "duration": 10,
    "start_time": "2024-08-14T23:41:16.730Z"
   },
   {
    "duration": 3,
    "start_time": "2024-08-14T23:42:03.854Z"
   },
   {
    "duration": 4896,
    "start_time": "2024-08-16T23:46:20.797Z"
   },
   {
    "duration": 41,
    "start_time": "2024-08-16T23:46:25.697Z"
   },
   {
    "duration": 32,
    "start_time": "2024-08-16T23:46:25.744Z"
   },
   {
    "duration": 15,
    "start_time": "2024-08-16T23:46:25.780Z"
   },
   {
    "duration": 17,
    "start_time": "2024-08-16T23:46:25.813Z"
   },
   {
    "duration": 7,
    "start_time": "2024-08-16T23:46:25.833Z"
   },
   {
    "duration": 8,
    "start_time": "2024-08-16T23:46:25.843Z"
   },
   {
    "duration": 11,
    "start_time": "2024-08-16T23:46:25.854Z"
   },
   {
    "duration": 11,
    "start_time": "2024-08-16T23:46:25.914Z"
   },
   {
    "duration": 15,
    "start_time": "2024-08-16T23:46:25.928Z"
   },
   {
    "duration": 15,
    "start_time": "2024-08-16T23:46:25.947Z"
   },
   {
    "duration": 62,
    "start_time": "2024-08-16T23:46:25.965Z"
   },
   {
    "duration": 23,
    "start_time": "2024-08-16T23:46:26.029Z"
   },
   {
    "duration": 52,
    "start_time": "2024-08-16T23:46:26.060Z"
   },
   {
    "duration": 8,
    "start_time": "2024-08-16T23:46:26.115Z"
   },
   {
    "duration": 9,
    "start_time": "2024-08-16T23:46:26.126Z"
   },
   {
    "duration": 427,
    "start_time": "2024-08-16T23:46:26.139Z"
   },
   {
    "duration": 18,
    "start_time": "2024-08-16T23:46:26.569Z"
   },
   {
    "duration": 309,
    "start_time": "2024-08-16T23:46:26.591Z"
   },
   {
    "duration": 269,
    "start_time": "2024-08-16T23:46:26.903Z"
   },
   {
    "duration": 8,
    "start_time": "2024-08-16T23:46:27.175Z"
   },
   {
    "duration": 397,
    "start_time": "2024-08-16T23:46:27.187Z"
   },
   {
    "duration": 36,
    "start_time": "2024-08-16T23:46:27.587Z"
   },
   {
    "duration": 294,
    "start_time": "2024-08-16T23:46:27.626Z"
   },
   {
    "duration": 251,
    "start_time": "2024-08-16T23:46:27.923Z"
   },
   {
    "duration": 13,
    "start_time": "2024-08-16T23:46:28.176Z"
   },
   {
    "duration": 248,
    "start_time": "2024-08-16T23:46:28.195Z"
   },
   {
    "duration": 8,
    "start_time": "2024-08-16T23:46:28.446Z"
   },
   {
    "duration": 232,
    "start_time": "2024-08-16T23:46:28.459Z"
   },
   {
    "duration": 7,
    "start_time": "2024-08-16T23:46:28.694Z"
   },
   {
    "duration": 298,
    "start_time": "2024-08-16T23:46:28.714Z"
   },
   {
    "duration": 14,
    "start_time": "2024-08-16T23:46:29.014Z"
   },
   {
    "duration": 32,
    "start_time": "2024-08-16T23:46:29.031Z"
   },
   {
    "duration": 48,
    "start_time": "2024-08-16T23:46:29.066Z"
   },
   {
    "duration": 14,
    "start_time": "2024-08-16T23:46:29.119Z"
   },
   {
    "duration": 41,
    "start_time": "2024-08-16T23:46:29.136Z"
   },
   {
    "duration": 22,
    "start_time": "2024-08-16T23:46:29.211Z"
   }
  ],
  "kernelspec": {
   "display_name": "Python 3 (ipykernel)",
   "language": "python",
   "name": "python3"
  },
  "language_info": {
   "codemirror_mode": {
    "name": "ipython",
    "version": 3
   },
   "file_extension": ".py",
   "mimetype": "text/x-python",
   "name": "python",
   "nbconvert_exporter": "python",
   "pygments_lexer": "ipython3",
   "version": "3.9.19"
  },
  "toc": {
   "base_numbering": 1,
   "nav_menu": {},
   "number_sections": true,
   "sideBar": true,
   "skip_h1_title": true,
   "title_cell": "Table of Contents",
   "title_sidebar": "Contents",
   "toc_cell": false,
   "toc_position": {},
   "toc_section_display": true,
   "toc_window_display": false
  }
 },
 "nbformat": 4,
 "nbformat_minor": 2
}
